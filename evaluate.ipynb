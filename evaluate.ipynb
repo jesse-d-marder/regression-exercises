{
 "cells": [
  {
   "cell_type": "code",
   "execution_count": 1,
   "id": "6acb8ca6-9c94-43a2-ab71-6bd790b466bf",
   "metadata": {},
   "outputs": [],
   "source": [
    "import pandas as pd\n",
    "import numpy as np\n",
    "import matplotlib.pyplot as plt\n",
    "import seaborn as sns\n",
    "from scipy import stats\n",
    "\n",
    "from sklearn.metrics import mean_squared_error, r2_score, explained_variance_score\n",
    "\n",
    "from sklearn.linear_model import LinearRegression\n",
    "from sklearn.feature_selection import f_regression \n",
    "\n",
    "import evaluate\n",
    "\n",
    "from pydataset import data\n",
    "\n",
    "import warnings\n",
    "warnings.filterwarnings('ignore')"
   ]
  },
  {
   "cell_type": "code",
   "execution_count": 2,
   "id": "ebac8d8f-0841-43bb-9b13-85246b366361",
   "metadata": {},
   "outputs": [],
   "source": [
    "df = sns.load_dataset('tips')"
   ]
  },
  {
   "cell_type": "code",
   "execution_count": 3,
   "id": "7129d558-c74c-4f6b-abd8-14376f0eae1e",
   "metadata": {},
   "outputs": [
    {
     "data": {
      "text/html": [
       "<div>\n",
       "<style scoped>\n",
       "    .dataframe tbody tr th:only-of-type {\n",
       "        vertical-align: middle;\n",
       "    }\n",
       "\n",
       "    .dataframe tbody tr th {\n",
       "        vertical-align: top;\n",
       "    }\n",
       "\n",
       "    .dataframe thead th {\n",
       "        text-align: right;\n",
       "    }\n",
       "</style>\n",
       "<table border=\"1\" class=\"dataframe\">\n",
       "  <thead>\n",
       "    <tr style=\"text-align: right;\">\n",
       "      <th></th>\n",
       "      <th>total_bill</th>\n",
       "      <th>tip</th>\n",
       "      <th>sex</th>\n",
       "      <th>smoker</th>\n",
       "      <th>day</th>\n",
       "      <th>time</th>\n",
       "      <th>size</th>\n",
       "    </tr>\n",
       "  </thead>\n",
       "  <tbody>\n",
       "    <tr>\n",
       "      <th>0</th>\n",
       "      <td>16.99</td>\n",
       "      <td>1.01</td>\n",
       "      <td>Female</td>\n",
       "      <td>No</td>\n",
       "      <td>Sun</td>\n",
       "      <td>Dinner</td>\n",
       "      <td>2</td>\n",
       "    </tr>\n",
       "    <tr>\n",
       "      <th>1</th>\n",
       "      <td>10.34</td>\n",
       "      <td>1.66</td>\n",
       "      <td>Male</td>\n",
       "      <td>No</td>\n",
       "      <td>Sun</td>\n",
       "      <td>Dinner</td>\n",
       "      <td>3</td>\n",
       "    </tr>\n",
       "    <tr>\n",
       "      <th>2</th>\n",
       "      <td>21.01</td>\n",
       "      <td>3.50</td>\n",
       "      <td>Male</td>\n",
       "      <td>No</td>\n",
       "      <td>Sun</td>\n",
       "      <td>Dinner</td>\n",
       "      <td>3</td>\n",
       "    </tr>\n",
       "    <tr>\n",
       "      <th>3</th>\n",
       "      <td>23.68</td>\n",
       "      <td>3.31</td>\n",
       "      <td>Male</td>\n",
       "      <td>No</td>\n",
       "      <td>Sun</td>\n",
       "      <td>Dinner</td>\n",
       "      <td>2</td>\n",
       "    </tr>\n",
       "    <tr>\n",
       "      <th>4</th>\n",
       "      <td>24.59</td>\n",
       "      <td>3.61</td>\n",
       "      <td>Female</td>\n",
       "      <td>No</td>\n",
       "      <td>Sun</td>\n",
       "      <td>Dinner</td>\n",
       "      <td>4</td>\n",
       "    </tr>\n",
       "  </tbody>\n",
       "</table>\n",
       "</div>"
      ],
      "text/plain": [
       "   total_bill   tip     sex smoker  day    time  size\n",
       "0       16.99  1.01  Female     No  Sun  Dinner     2\n",
       "1       10.34  1.66    Male     No  Sun  Dinner     3\n",
       "2       21.01  3.50    Male     No  Sun  Dinner     3\n",
       "3       23.68  3.31    Male     No  Sun  Dinner     2\n",
       "4       24.59  3.61  Female     No  Sun  Dinner     4"
      ]
     },
     "execution_count": 3,
     "metadata": {},
     "output_type": "execute_result"
    }
   ],
   "source": [
    "df.head()"
   ]
  },
  {
   "cell_type": "markdown",
   "id": "611fc82e-1d48-4773-850a-90f1d62a83f5",
   "metadata": {},
   "source": [
    "2. Fit a linear regression model (ordinary least squares) and compute yhat, predictions of tip using total_bill."
   ]
  },
  {
   "cell_type": "code",
   "execution_count": 4,
   "id": "f85e9334-06c1-449b-81c0-3d6f17d31cfc",
   "metadata": {},
   "outputs": [],
   "source": [
    "# Now we fit a regression model using OLS method.\n",
    "# OLS = ordinary least squares.\n",
    "\n",
    "# x is total_bill\n",
    "# y is tips\n",
    "# create the model object\n",
    "lm = LinearRegression(normalize=True)\n",
    "\n",
    "# fit the model to training data\n",
    "lm.fit(df[['total_bill']], df.tip)\n",
    "\n",
    "# make prediction\n",
    "df['yhat'] = lm.predict(df[['total_bill']])\n",
    "\n"
   ]
  },
  {
   "cell_type": "code",
   "execution_count": 5,
   "id": "cd0c2a64-2439-4b85-833e-6425abbe9b27",
   "metadata": {},
   "outputs": [],
   "source": [
    "df[\"residuals\"] = df.yhat - df.tip\n",
    "df[\"baseline\"] = df.tip.mean()\n",
    "df[\"baseline_residual\"] = df.baseline - df.tip"
   ]
  },
  {
   "cell_type": "markdown",
   "id": "96f7bd99-918c-4623-8071-d49d334f2504",
   "metadata": {},
   "source": [
    "3. Plot residuals"
   ]
  },
  {
   "cell_type": "code",
   "execution_count": 6,
   "id": "402445c1-729c-4bdf-ab5f-974933377a4a",
   "metadata": {},
   "outputs": [
    {
     "data": {
      "image/png": "[encoded data removed]",
      "text/plain": [
       "<Figure size 1152x360 with 4 Axes>"
      ]
     },
     "metadata": {
      "needs_background": "light"
     },
     "output_type": "display_data"
    }
   ],
   "source": [
    "plt.subplots(2,2, figsize=(16,5))\n",
    "plt.subplot(221)\n",
    "plt.scatter(x=df.total_bill, y = df.residuals)\n",
    "plt.axhline(0)\n",
    "plt.xlabel('total_bill')\n",
    "plt.ylabel('residual (yhat - y)')\n",
    "plt.title(\"OLS Residuals\")\n",
    "plt.subplot(222)\n",
    "plt.scatter(x=df.total_bill, y = df.baseline_residual)\n",
    "plt.axhline(0)\n",
    "plt.xlabel('total_bill')\n",
    "plt.ylabel('residual (yhat - y)')\n",
    "plt.title(\"Baseline residuals\")\n",
    "\n",
    "plt.subplot(223)\n",
    "plt.scatter(x=df.tip, y = df.residuals)\n",
    "plt.axhline(0)\n",
    "plt.xlabel('tip')\n",
    "plt.ylabel('residual (yhat - y)')\n",
    "plt.title(\"OLS Residuals\")\n",
    "plt.subplot(224)\n",
    "plt.scatter(x=df.tip, y = df.baseline_residual)\n",
    "plt.axhline(0)\n",
    "plt.xlabel('tip')\n",
    "plt.ylabel('residual (yhat - y)')\n",
    "plt.title(\"Baseline residuals\")\n",
    "\n",
    "plt.tight_layout()"
   ]
  },
  {
   "cell_type": "markdown",
   "id": "03b83608-7d0d-4fec-9b17-b6a342bfd794",
   "metadata": {},
   "source": [
    "3. SSE, Explained sum of squares, total sum of squares, mean squared error, RMSE for OLS model"
   ]
  },
  {
   "cell_type": "code",
   "execution_count": 7,
   "id": "1d4352ea-2d8d-49f4-af25-2458aae84949",
   "metadata": {},
   "outputs": [],
   "source": [
    "SSE = (df.residuals**2).sum()\n",
    "\n",
    "ESS = ((df.yhat - df.baseline)**2).sum()\n",
    "\n",
    "# TSS = ((df.tip-df.baseline)**2).sum() .... OR:\n",
    "TSS = SSE + ESS\n",
    "\n",
    "MSE = SSE/len(df)\n",
    "\n",
    "RMSE_model = MSE ** 0.5\n",
    "\n",
    "model = {'SSE':SSE,'ESS':ESS,'TSS':TSS,'MSE':MSE, 'RMSE':RMSE_model}"
   ]
  },
  {
   "cell_type": "markdown",
   "id": "4a39c1b9-c004-4a92-a2f0-55a35710cceb",
   "metadata": {},
   "source": [
    "4. SSE, Explained sum of squares, total sum of squares, mean squared error, RMSE for Baseline"
   ]
  },
  {
   "cell_type": "code",
   "execution_count": 8,
   "id": "00a5fe7f-b0e8-41e4-a37d-6a07a7740608",
   "metadata": {},
   "outputs": [],
   "source": [
    "SSE = (df.baseline_residual**2).sum()\n",
    "\n",
    "ESS = ((df.baseline - df.baseline)**2).sum()\n",
    "\n",
    "# TSS = ((df.tip-df.baseline)**2).sum() .... OR:\n",
    "TSS = SSE + ESS\n",
    "\n",
    "MSE = SSE/len(df)\n",
    "\n",
    "RMSE_base = MSE ** 0.5\n",
    "\n",
    "base = {'SSE':SSE,'ESS':ESS,'TSS':TSS,'MSE':MSE, 'RMSE':RMSE_base}"
   ]
  },
  {
   "cell_type": "code",
   "execution_count": 9,
   "id": "1fcf56e1-1e89-42e6-867d-f334725eb1e5",
   "metadata": {},
   "outputs": [],
   "source": [
    "results = pd.DataFrame(data=[model,base], index = ['model','base']).T"
   ]
  },
  {
   "cell_type": "code",
   "execution_count": 10,
   "id": "509879fd-4c7b-4092-9d7e-e9af6d750db0",
   "metadata": {},
   "outputs": [
    {
     "data": {
      "text/html": [
       "<div>\n",
       "<style scoped>\n",
       "    .dataframe tbody tr th:only-of-type {\n",
       "        vertical-align: middle;\n",
       "    }\n",
       "\n",
       "    .dataframe tbody tr th {\n",
       "        vertical-align: top;\n",
       "    }\n",
       "\n",
       "    .dataframe thead th {\n",
       "        text-align: right;\n",
       "    }\n",
       "</style>\n",
       "<table border=\"1\" class=\"dataframe\">\n",
       "  <thead>\n",
       "    <tr style=\"text-align: right;\">\n",
       "      <th></th>\n",
       "      <th>model</th>\n",
       "      <th>base</th>\n",
       "    </tr>\n",
       "  </thead>\n",
       "  <tbody>\n",
       "    <tr>\n",
       "      <th>SSE</th>\n",
       "      <td>252.788744</td>\n",
       "      <td>465.212477</td>\n",
       "    </tr>\n",
       "    <tr>\n",
       "      <th>ESS</th>\n",
       "      <td>212.423733</td>\n",
       "      <td>0.000000</td>\n",
       "    </tr>\n",
       "    <tr>\n",
       "      <th>TSS</th>\n",
       "      <td>465.212477</td>\n",
       "      <td>465.212477</td>\n",
       "    </tr>\n",
       "    <tr>\n",
       "      <th>MSE</th>\n",
       "      <td>1.036019</td>\n",
       "      <td>1.906609</td>\n",
       "    </tr>\n",
       "    <tr>\n",
       "      <th>RMSE</th>\n",
       "      <td>1.017850</td>\n",
       "      <td>1.380800</td>\n",
       "    </tr>\n",
       "  </tbody>\n",
       "</table>\n",
       "</div>"
      ],
      "text/plain": [
       "           model        base\n",
       "SSE   252.788744  465.212477\n",
       "ESS   212.423733    0.000000\n",
       "TSS   465.212477  465.212477\n",
       "MSE     1.036019    1.906609\n",
       "RMSE    1.017850    1.380800"
      ]
     },
     "execution_count": 10,
     "metadata": {},
     "output_type": "execute_result"
    }
   ],
   "source": [
    "results"
   ]
  },
  {
   "cell_type": "markdown",
   "id": "c168da0d-94e7-4c8a-a1c1-e86403747971",
   "metadata": {},
   "source": [
    "6. Compare performance"
   ]
  },
  {
   "cell_type": "code",
   "execution_count": 11,
   "id": "ad0baf8f-7328-4975-88a3-728a61601fd2",
   "metadata": {},
   "outputs": [
    {
     "name": "stdout",
     "output_type": "stream",
     "text": [
      "Model is better than baseline (SSE is less):  True\n"
     ]
    }
   ],
   "source": [
    "print(\"Model is better than baseline (SSE is less): \", results.model.SSE<results.base.SSE)"
   ]
  },
  {
   "cell_type": "markdown",
   "id": "7858b7e2-9b52-4581-99ae-2d465eaa6a46",
   "metadata": {},
   "source": [
    "7. Expected variance / R2"
   ]
  },
  {
   "cell_type": "code",
   "execution_count": 12,
   "id": "448de37a-1243-46e6-b2dc-6e476385bcde",
   "metadata": {},
   "outputs": [],
   "source": [
    "R2_model = results.model.ESS/results.model.TSS"
   ]
  },
  {
   "cell_type": "code",
   "execution_count": 13,
   "id": "f7cc45d6-30d4-4ab8-a36b-ad086100de7c",
   "metadata": {},
   "outputs": [
    {
     "data": {
      "text/plain": [
       "0.45661658635167657"
      ]
     },
     "execution_count": 13,
     "metadata": {},
     "output_type": "execute_result"
    }
   ],
   "source": [
    "R2_model"
   ]
  },
  {
   "cell_type": "markdown",
   "id": "0a1b15f4-c4d9-4447-b0c4-651a2712d15a",
   "metadata": {},
   "source": [
    "8. Is model better than the baseline?"
   ]
  },
  {
   "cell_type": "code",
   "execution_count": 14,
   "id": "6efc88f6-8c86-4849-b8f5-6001054c49b6",
   "metadata": {},
   "outputs": [],
   "source": [
    "R2_baseline = explained_variance_score(df.tip, df.baseline)"
   ]
  },
  {
   "cell_type": "code",
   "execution_count": 15,
   "id": "47de68c6-93b9-4229-ad19-d5bdfbf473d4",
   "metadata": {},
   "outputs": [
    {
     "data": {
      "text/plain": [
       "1.1102230246251565e-16"
      ]
     },
     "execution_count": 15,
     "metadata": {},
     "output_type": "execute_result"
    }
   ],
   "source": [
    "R2_baseline"
   ]
  },
  {
   "cell_type": "code",
   "execution_count": 16,
   "id": "591fcfff-bacc-4331-a62c-bd6c85f392fd",
   "metadata": {},
   "outputs": [
    {
     "name": "stdout",
     "output_type": "stream",
     "text": [
      "OLS model is better than baseline (R2 is less):  False\n"
     ]
    }
   ],
   "source": [
    "print(\"OLS model is better than baseline (R2 is less): \", R2_model<R2_baseline)"
   ]
  },
  {
   "cell_type": "markdown",
   "id": "c99c8a60-ae95-4be1-9f3d-df5fe46a721f",
   "metadata": {},
   "source": [
    "### Model is superior to baseline for SSE and RMSE but inferior based on R2 value"
   ]
  },
  {
   "cell_type": "markdown",
   "id": "beeb5d9b-6175-42d1-ab4b-d5793f0d5bc1",
   "metadata": {},
   "source": [
    "#### Using functions in evaluate.py to determine if model better than baseline (based on RMSE)"
   ]
  },
  {
   "cell_type": "code",
   "execution_count": 17,
   "id": "e325df74-6652-4db5-a1a9-9f1c8267e03f",
   "metadata": {},
   "outputs": [
    {
     "data": {
      "text/plain": [
       "True"
      ]
     },
     "execution_count": 17,
     "metadata": {},
     "output_type": "execute_result"
    }
   ],
   "source": [
    "evaluate.better_than_baseline(df.tip, df.yhat)"
   ]
  },
  {
   "cell_type": "markdown",
   "id": "3de0391e-f21e-4891-bebc-f54a785e6239",
   "metadata": {},
   "source": [
    "### 10. mpg dataset, fit model predicting highway mileage based on engine displacement"
   ]
  },
  {
   "cell_type": "code",
   "execution_count": 18,
   "id": "87975ade-4b46-48d7-ac58-367d87338146",
   "metadata": {},
   "outputs": [],
   "source": [
    "mpg = data('mpg')"
   ]
  },
  {
   "cell_type": "code",
   "execution_count": 19,
   "id": "e0745a98-3b62-4c6f-ab49-845f38e85cee",
   "metadata": {},
   "outputs": [
    {
     "data": {
      "text/html": [
       "<div>\n",
       "<style scoped>\n",
       "    .dataframe tbody tr th:only-of-type {\n",
       "        vertical-align: middle;\n",
       "    }\n",
       "\n",
       "    .dataframe tbody tr th {\n",
       "        vertical-align: top;\n",
       "    }\n",
       "\n",
       "    .dataframe thead th {\n",
       "        text-align: right;\n",
       "    }\n",
       "</style>\n",
       "<table border=\"1\" class=\"dataframe\">\n",
       "  <thead>\n",
       "    <tr style=\"text-align: right;\">\n",
       "      <th></th>\n",
       "      <th>manufacturer</th>\n",
       "      <th>model</th>\n",
       "      <th>displ</th>\n",
       "      <th>year</th>\n",
       "      <th>cyl</th>\n",
       "      <th>trans</th>\n",
       "      <th>drv</th>\n",
       "      <th>cty</th>\n",
       "      <th>hwy</th>\n",
       "      <th>fl</th>\n",
       "      <th>class</th>\n",
       "    </tr>\n",
       "  </thead>\n",
       "  <tbody>\n",
       "    <tr>\n",
       "      <th>1</th>\n",
       "      <td>audi</td>\n",
       "      <td>a4</td>\n",
       "      <td>1.8</td>\n",
       "      <td>1999</td>\n",
       "      <td>4</td>\n",
       "      <td>auto(l5)</td>\n",
       "      <td>f</td>\n",
       "      <td>18</td>\n",
       "      <td>29</td>\n",
       "      <td>p</td>\n",
       "      <td>compact</td>\n",
       "    </tr>\n",
       "    <tr>\n",
       "      <th>2</th>\n",
       "      <td>audi</td>\n",
       "      <td>a4</td>\n",
       "      <td>1.8</td>\n",
       "      <td>1999</td>\n",
       "      <td>4</td>\n",
       "      <td>manual(m5)</td>\n",
       "      <td>f</td>\n",
       "      <td>21</td>\n",
       "      <td>29</td>\n",
       "      <td>p</td>\n",
       "      <td>compact</td>\n",
       "    </tr>\n",
       "    <tr>\n",
       "      <th>3</th>\n",
       "      <td>audi</td>\n",
       "      <td>a4</td>\n",
       "      <td>2.0</td>\n",
       "      <td>2008</td>\n",
       "      <td>4</td>\n",
       "      <td>manual(m6)</td>\n",
       "      <td>f</td>\n",
       "      <td>20</td>\n",
       "      <td>31</td>\n",
       "      <td>p</td>\n",
       "      <td>compact</td>\n",
       "    </tr>\n",
       "    <tr>\n",
       "      <th>4</th>\n",
       "      <td>audi</td>\n",
       "      <td>a4</td>\n",
       "      <td>2.0</td>\n",
       "      <td>2008</td>\n",
       "      <td>4</td>\n",
       "      <td>auto(av)</td>\n",
       "      <td>f</td>\n",
       "      <td>21</td>\n",
       "      <td>30</td>\n",
       "      <td>p</td>\n",
       "      <td>compact</td>\n",
       "    </tr>\n",
       "    <tr>\n",
       "      <th>5</th>\n",
       "      <td>audi</td>\n",
       "      <td>a4</td>\n",
       "      <td>2.8</td>\n",
       "      <td>1999</td>\n",
       "      <td>6</td>\n",
       "      <td>auto(l5)</td>\n",
       "      <td>f</td>\n",
       "      <td>16</td>\n",
       "      <td>26</td>\n",
       "      <td>p</td>\n",
       "      <td>compact</td>\n",
       "    </tr>\n",
       "  </tbody>\n",
       "</table>\n",
       "</div>"
      ],
      "text/plain": [
       "  manufacturer model  displ  year  cyl       trans drv  cty  hwy fl    class\n",
       "1         audi    a4    1.8  1999    4    auto(l5)   f   18   29  p  compact\n",
       "2         audi    a4    1.8  1999    4  manual(m5)   f   21   29  p  compact\n",
       "3         audi    a4    2.0  2008    4  manual(m6)   f   20   31  p  compact\n",
       "4         audi    a4    2.0  2008    4    auto(av)   f   21   30  p  compact\n",
       "5         audi    a4    2.8  1999    6    auto(l5)   f   16   26  p  compact"
      ]
     },
     "execution_count": 19,
     "metadata": {},
     "output_type": "execute_result"
    }
   ],
   "source": [
    "mpg.head()"
   ]
  },
  {
   "cell_type": "code",
   "execution_count": 20,
   "id": "c50d5059-6f92-46e4-9d08-30a53d7de35d",
   "metadata": {},
   "outputs": [],
   "source": [
    "# Now we fit a regression model using OLS method.\n",
    "# OLS = ordinary least squares.\n",
    "\n",
    "# x is displacement\n",
    "# y is hwy (mpg)\n",
    "# create the model object\n",
    "lm = LinearRegression(normalize=True)\n",
    "\n",
    "# fit the model to training data\n",
    "lm.fit(mpg[['displ']], mpg.hwy)\n",
    "\n",
    "# make prediction\n",
    "mpg['yhat'] = lm.predict(mpg[['displ']])\n",
    "\n"
   ]
  },
  {
   "cell_type": "code",
   "execution_count": 21,
   "id": "13ee347f-5532-47be-92d2-7e000eb9fc3e",
   "metadata": {},
   "outputs": [],
   "source": [
    "mpg[\"residuals\"] = mpg.yhat - mpg.hwy\n",
    "mpg[\"baseline\"] = mpg.hwy.mean()\n",
    "mpg[\"baseline_residual\"] = mpg.baseline - mpg.hwy"
   ]
  },
  {
   "cell_type": "markdown",
   "id": "7f479d8f-c6b3-4dca-9b8c-cafa12ecce84",
   "metadata": {},
   "source": [
    "Plot residuals"
   ]
  },
  {
   "cell_type": "code",
   "execution_count": 22,
   "id": "570d8ec4-7e8c-4a12-b06d-bbbbce332ea7",
   "metadata": {},
   "outputs": [
    {
     "data": {
      "image/png": "[encoded data removed]",
      "text/plain": [
       "<Figure size 1152x360 with 4 Axes>"
      ]
     },
     "metadata": {
      "needs_background": "light"
     },
     "output_type": "display_data"
    }
   ],
   "source": [
    "evaluate.plot_residuals(mpg.displ, mpg.hwy, mpg.yhat)"
   ]
  },
  {
   "cell_type": "code",
   "execution_count": 23,
   "id": "4f031605-6973-49bc-aa49-5d4eae8c7f82",
   "metadata": {},
   "outputs": [
    {
     "data": {
      "text/plain": [
       "{'SSE': 3413.829008995464,\n",
       " 'ESS': 4847.833384166923,\n",
       " 'TSS': 8261.662393162387,\n",
       " 'MSE': 14.589012858954973,\n",
       " 'RMSE': 3.8195566312014506,\n",
       " 'R2': 0.586786672398904}"
      ]
     },
     "execution_count": 23,
     "metadata": {},
     "output_type": "execute_result"
    }
   ],
   "source": [
    "evaluate.regression_errors(mpg.hwy, mpg.yhat)"
   ]
  },
  {
   "cell_type": "code",
   "execution_count": 24,
   "id": "4298feb5-0c0d-4e6d-8f3a-6dd3321bcf10",
   "metadata": {},
   "outputs": [
    {
     "data": {
      "text/plain": [
       "{'SSE': 8261.662393162384, 'MSE': 35.30624954342902, 'RMSE': 5.941906221359356}"
      ]
     },
     "execution_count": 24,
     "metadata": {},
     "output_type": "execute_result"
    }
   ],
   "source": [
    "evaluate.baseline_mean_errors(mpg.hwy)"
   ]
  },
  {
   "cell_type": "code",
   "execution_count": 25,
   "id": "14d07847-6bbf-4bc6-a962-1a015a8b504e",
   "metadata": {},
   "outputs": [
    {
     "data": {
      "text/plain": [
       "True"
      ]
     },
     "execution_count": 25,
     "metadata": {},
     "output_type": "execute_result"
    }
   ],
   "source": [
    "evaluate.better_than_baseline(mpg.hwy, mpg.yhat)"
   ]
  }
 ],
 "metadata": {
  "kernelspec": {
   "display_name": "Python 3.9.7 64-bit ('base': conda)",
   "language": "python",
   "name": "python397jvsc74a57bd038cca0c38332a56087b24af0bc80247f4fced29cb4f7f437d91dc159adec9c4e"
  },
  "language_info": {
   "codemirror_mode": {
    "name": "ipython",
    "version": 3
   },
   "file_extension": ".py",
   "mimetype": "text/x-python",
   "name": "python",
   "nbconvert_exporter": "python",
   "pygments_lexer": "ipython3",
   "version": "3.9.7"
  }
 },
 "nbformat": 4,
 "nbformat_minor": 5
}
