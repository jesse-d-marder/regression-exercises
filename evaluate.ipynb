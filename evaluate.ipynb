{
 "cells": [
  {
   "cell_type": "code",
   "execution_count": 47,
   "id": "6acb8ca6-9c94-43a2-ab71-6bd790b466bf",
   "metadata": {},
   "outputs": [],
   "source": [
    "import pandas as pd\n",
    "import numpy as np\n",
    "import matplotlib.pyplot as plt\n",
    "import seaborn as sns\n",
    "from scipy import stats\n",
    "\n",
    "from sklearn.metrics import mean_squared_error, r2_score, explained_variance_score\n",
    "\n",
    "from sklearn.linear_model import LinearRegression\n",
    "from sklearn.feature_selection import f_regression \n",
    "\n",
    "import warnings\n",
    "warnings.filterwarnings('ignore')"
   ]
  },
  {
   "cell_type": "code",
   "execution_count": 3,
   "id": "ebac8d8f-0841-43bb-9b13-85246b366361",
   "metadata": {},
   "outputs": [],
   "source": [
    "df = sns.load_dataset('tips')"
   ]
  },
  {
   "cell_type": "code",
   "execution_count": 4,
   "id": "7129d558-c74c-4f6b-abd8-14376f0eae1e",
   "metadata": {},
   "outputs": [
    {
     "data": {
      "text/html": [
       "<div>\n",
       "<style scoped>\n",
       "    .dataframe tbody tr th:only-of-type {\n",
       "        vertical-align: middle;\n",
       "    }\n",
       "\n",
       "    .dataframe tbody tr th {\n",
       "        vertical-align: top;\n",
       "    }\n",
       "\n",
       "    .dataframe thead th {\n",
       "        text-align: right;\n",
       "    }\n",
       "</style>\n",
       "<table border=\"1\" class=\"dataframe\">\n",
       "  <thead>\n",
       "    <tr style=\"text-align: right;\">\n",
       "      <th></th>\n",
       "      <th>total_bill</th>\n",
       "      <th>tip</th>\n",
       "      <th>sex</th>\n",
       "      <th>smoker</th>\n",
       "      <th>day</th>\n",
       "      <th>time</th>\n",
       "      <th>size</th>\n",
       "    </tr>\n",
       "  </thead>\n",
       "  <tbody>\n",
       "    <tr>\n",
       "      <th>0</th>\n",
       "      <td>16.99</td>\n",
       "      <td>1.01</td>\n",
       "      <td>Female</td>\n",
       "      <td>No</td>\n",
       "      <td>Sun</td>\n",
       "      <td>Dinner</td>\n",
       "      <td>2</td>\n",
       "    </tr>\n",
       "    <tr>\n",
       "      <th>1</th>\n",
       "      <td>10.34</td>\n",
       "      <td>1.66</td>\n",
       "      <td>Male</td>\n",
       "      <td>No</td>\n",
       "      <td>Sun</td>\n",
       "      <td>Dinner</td>\n",
       "      <td>3</td>\n",
       "    </tr>\n",
       "    <tr>\n",
       "      <th>2</th>\n",
       "      <td>21.01</td>\n",
       "      <td>3.50</td>\n",
       "      <td>Male</td>\n",
       "      <td>No</td>\n",
       "      <td>Sun</td>\n",
       "      <td>Dinner</td>\n",
       "      <td>3</td>\n",
       "    </tr>\n",
       "    <tr>\n",
       "      <th>3</th>\n",
       "      <td>23.68</td>\n",
       "      <td>3.31</td>\n",
       "      <td>Male</td>\n",
       "      <td>No</td>\n",
       "      <td>Sun</td>\n",
       "      <td>Dinner</td>\n",
       "      <td>2</td>\n",
       "    </tr>\n",
       "    <tr>\n",
       "      <th>4</th>\n",
       "      <td>24.59</td>\n",
       "      <td>3.61</td>\n",
       "      <td>Female</td>\n",
       "      <td>No</td>\n",
       "      <td>Sun</td>\n",
       "      <td>Dinner</td>\n",
       "      <td>4</td>\n",
       "    </tr>\n",
       "  </tbody>\n",
       "</table>\n",
       "</div>"
      ],
      "text/plain": [
       "   total_bill   tip     sex smoker  day    time  size\n",
       "0       16.99  1.01  Female     No  Sun  Dinner     2\n",
       "1       10.34  1.66    Male     No  Sun  Dinner     3\n",
       "2       21.01  3.50    Male     No  Sun  Dinner     3\n",
       "3       23.68  3.31    Male     No  Sun  Dinner     2\n",
       "4       24.59  3.61  Female     No  Sun  Dinner     4"
      ]
     },
     "execution_count": 4,
     "metadata": {},
     "output_type": "execute_result"
    }
   ],
   "source": [
    "df.head()"
   ]
  },
  {
   "cell_type": "markdown",
   "id": "611fc82e-1d48-4773-850a-90f1d62a83f5",
   "metadata": {},
   "source": [
    "2. Fit a linear regression model (ordinary least squares) and compute yhat, predictions of tip using total_bill."
   ]
  },
  {
   "cell_type": "code",
   "execution_count": 5,
   "id": "f85e9334-06c1-449b-81c0-3d6f17d31cfc",
   "metadata": {},
   "outputs": [],
   "source": [
    "# Now we fit a regression model using OLS method.\n",
    "# OLS = ordinary least squares.\n",
    "\n",
    "# x is total_bill\n",
    "# y is tips\n",
    "# create the model object\n",
    "lm = LinearRegression(normalize=True)\n",
    "\n",
    "# fit the model to training data\n",
    "lm.fit(df[['total_bill']], df.tip)\n",
    "\n",
    "# make prediction\n",
    "df['yhat'] = lm.predict(df[['total_bill']])\n",
    "\n"
   ]
  },
  {
   "cell_type": "code",
   "execution_count": 22,
   "id": "cd0c2a64-2439-4b85-833e-6425abbe9b27",
   "metadata": {},
   "outputs": [],
   "source": [
    "df[\"residuals\"] = df.yhat - df.tip\n",
    "df[\"baseline\"] = df.tip.mean()\n",
    "df[\"baseline_residual\"] = df.baseline - df.tip"
   ]
  },
  {
   "cell_type": "markdown",
   "id": "96f7bd99-918c-4623-8071-d49d334f2504",
   "metadata": {},
   "source": [
    "3. Plot residuals"
   ]
  },
  {
   "cell_type": "code",
   "execution_count": 24,
   "id": "402445c1-729c-4bdf-ab5f-974933377a4a",
   "metadata": {},
   "outputs": [
    {
     "data": {
      "text/plain": [
       "Text(0.5, 1.0, 'Baseline residuals')"
      ]
     },
     "execution_count": 24,
     "metadata": {},
     "output_type": "execute_result"
    },
    {
     "data": {
      "image/png": "[encoded data removed]",
      "text/plain": [
       "<Figure size 1152x360 with 2 Axes>"
      ]
     },
     "metadata": {
      "needs_background": "light"
     },
     "output_type": "display_data"
    }
   ],
   "source": [
    "plt.subplots(1,2, figsize=(16,5))\n",
    "plt.subplot(121)\n",
    "plt.scatter(x=df.total_bill, y = df.residuals)\n",
    "plt.axhline(0)\n",
    "plt.xlabel('total_bill')\n",
    "plt.ylabel('residual (yhat - y)')\n",
    "\n",
    "plt.title(\"OLS Residuals\")\n",
    "plt.subplot(122)\n",
    "plt.scatter(x=df.total_bill, y = df.baseline_residual)\n",
    "plt.axhline(0)\n",
    "plt.xlabel('total_bill')\n",
    "plt.ylabel('residual (yhat - y)')\n",
    "\n",
    "\n",
    "plt.title(\"Baseline residuals\")"
   ]
  },
  {
   "cell_type": "markdown",
   "id": "03b83608-7d0d-4fec-9b17-b6a342bfd794",
   "metadata": {},
   "source": [
    "3. SSE, Explained sum of squares, total sum of squares, mean squared error, RMSE for OLS model"
   ]
  },
  {
   "cell_type": "code",
   "execution_count": 37,
   "id": "1d4352ea-2d8d-49f4-af25-2458aae84949",
   "metadata": {},
   "outputs": [],
   "source": [
    "SSE = (df.residuals**2).sum()\n",
    "\n",
    "ESS = ((df.yhat - df.baseline)**2).sum()\n",
    "\n",
    "# TSS = ((df.tip-df.baseline)**2).sum() .... OR:\n",
    "TSS = SSE + ESS\n",
    "\n",
    "MSE = SSE/len(df)\n",
    "\n",
    "RMSE_model = MSE ** 0.5\n",
    "\n",
    "model = {'SSE':SSE,'ESS':ESS,'TSS':TSS,'MSE':MSE, 'RMSE':RMSE_model}"
   ]
  },
  {
   "cell_type": "markdown",
   "id": "4a39c1b9-c004-4a92-a2f0-55a35710cceb",
   "metadata": {},
   "source": [
    "4. SSE, Explained sum of squares, total sum of squares, mean squared error, RMSE for Baseline"
   ]
  },
  {
   "cell_type": "code",
   "execution_count": 38,
   "id": "00a5fe7f-b0e8-41e4-a37d-6a07a7740608",
   "metadata": {},
   "outputs": [],
   "source": [
    "SSE = (df.baseline_residual**2).sum()\n",
    "\n",
    "ESS = ((df.baseline - df.baseline)**2).sum()\n",
    "\n",
    "# TSS = ((df.tip-df.baseline)**2).sum() .... OR:\n",
    "TSS = SSE + ESS\n",
    "\n",
    "MSE = SSE/len(df)\n",
    "\n",
    "RMSE_base = MSE ** 0.5\n",
    "\n",
    "base = {'SSE':SSE,'ESS':ESS,'TSS':TSS,'MSE':MSE, 'RMSE':RMSE_base}"
   ]
  },
  {
   "cell_type": "code",
   "execution_count": 43,
   "id": "1fcf56e1-1e89-42e6-867d-f334725eb1e5",
   "metadata": {},
   "outputs": [],
   "source": [
    "results = pd.DataFrame(data=[model,base], index = ['model','base']).T"
   ]
  },
  {
   "cell_type": "markdown",
   "id": "c168da0d-94e7-4c8a-a1c1-e86403747971",
   "metadata": {},
   "source": [
    "6. Compare performance"
   ]
  },
  {
   "cell_type": "code",
   "execution_count": 46,
   "id": "ad0baf8f-7328-4975-88a3-728a61601fd2",
   "metadata": {},
   "outputs": [
    {
     "name": "stdout",
     "output_type": "stream",
     "text": [
      "Model is better than baseline (SSE is less):  True\n"
     ]
    }
   ],
   "source": [
    "print(\"Model is better than baseline (SSE is less): \", results.model.SSE<results.base.SSE)"
   ]
  },
  {
   "cell_type": "markdown",
   "id": "7858b7e2-9b52-4581-99ae-2d465eaa6a46",
   "metadata": {},
   "source": [
    "7. Expected variance / R2"
   ]
  },
  {
   "cell_type": "code",
   "execution_count": 52,
   "id": "448de37a-1243-46e6-b2dc-6e476385bcde",
   "metadata": {},
   "outputs": [],
   "source": [
    "R2_model = results.model.ESS/results.model.TSS"
   ]
  },
  {
   "cell_type": "code",
   "execution_count": 53,
   "id": "f7cc45d6-30d4-4ab8-a36b-ad086100de7c",
   "metadata": {},
   "outputs": [
    {
     "data": {
      "text/plain": [
       "0.45661658635167657"
      ]
     },
     "execution_count": 53,
     "metadata": {},
     "output_type": "execute_result"
    }
   ],
   "source": [
    "R2_model"
   ]
  },
  {
   "cell_type": "markdown",
   "id": "0a1b15f4-c4d9-4447-b0c4-651a2712d15a",
   "metadata": {},
   "source": [
    "8. Is model better than the baseline?"
   ]
  },
  {
   "cell_type": "code",
   "execution_count": 54,
   "id": "6efc88f6-8c86-4849-b8f5-6001054c49b6",
   "metadata": {},
   "outputs": [],
   "source": [
    "R2_baseline = explained_variance_score(df.tip, df.baseline)"
   ]
  },
  {
   "cell_type": "code",
   "execution_count": 55,
   "id": "47de68c6-93b9-4229-ad19-d5bdfbf473d4",
   "metadata": {},
   "outputs": [
    {
     "data": {
      "text/plain": [
       "1.1102230246251565e-16"
      ]
     },
     "execution_count": 55,
     "metadata": {},
     "output_type": "execute_result"
    }
   ],
   "source": [
    "R2_baseline"
   ]
  },
  {
   "cell_type": "code",
   "execution_count": 58,
   "id": "591fcfff-bacc-4331-a62c-bd6c85f392fd",
   "metadata": {},
   "outputs": [
    {
     "name": "stdout",
     "output_type": "stream",
     "text": [
      "OLS model is better than baseline (R2 is less):  False\n"
     ]
    }
   ],
   "source": [
    "print(\"OLS model is better than baseline (R2 is less): \", R2_model<R2_baseline)"
   ]
  },
  {
   "cell_type": "code",
   "execution_count": null,
   "id": "3e0fa468-b981-47da-be07-9588f35e06a0",
   "metadata": {},
   "outputs": [],
   "source": []
  }
 ],
 "metadata": {
  "kernelspec": {
   "display_name": "Python 3.9.7 64-bit ('base': conda)",
   "language": "python",
   "name": "python397jvsc74a57bd038cca0c38332a56087b24af0bc80247f4fced29cb4f7f437d91dc159adec9c4e"
  },
  "language_info": {
   "codemirror_mode": {
    "name": "ipython",
    "version": 3
   },
   "file_extension": ".py",
   "mimetype": "text/x-python",
   "name": "python",
   "nbconvert_exporter": "python",
   "pygments_lexer": "ipython3",
   "version": "3.9.7"
  }
 },
 "nbformat": 4,
 "nbformat_minor": 5
}
