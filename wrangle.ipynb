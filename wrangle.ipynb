{
 "cells": [
  {
   "cell_type": "code",
   "execution_count": 1,
   "id": "67f7f35b-42fc-4516-851a-ea16764a0862",
   "metadata": {},
   "outputs": [],
   "source": [
    "from env import get_db_url\n",
    "import pandas as pd\n",
    "import numpy as np\n",
    "import seaborn as sns\n",
    "import os\n",
    "from wrangle import wrangle_zillow, split_data\n",
    "import matplotlib.pyplot as plt"
   ]
  },
  {
   "cell_type": "code",
   "execution_count": 2,
   "id": "a51ce329-305a-4fd2-9181-b7d6e46b1a19",
   "metadata": {},
   "outputs": [],
   "source": [
    "query = \"\"\"\n",
    "SELECT parcelid,bedroomcnt, bathroomcnt, calculatedfinishedsquarefeet, taxvaluedollarcnt, yearbuilt, taxamount, fips\n",
    "FROM properties_2017\n",
    "JOIN propertylandusetype\n",
    "USING (propertylandusetypeid)\n",
    "WHERE propertylandusedesc = \"Single Family Residential\";\n",
    "\"\"\""
   ]
  },
  {
   "cell_type": "code",
   "execution_count": 3,
   "id": "93fe690b-e080-46d6-8097-d195fd35659d",
   "metadata": {},
   "outputs": [],
   "source": [
    "# df = pd.read_sql(query, get_db_url('zillow'))"
   ]
  },
  {
   "cell_type": "code",
   "execution_count": 37,
   "id": "c43b6bc8-036e-45fd-9527-5ef19a0d16cd",
   "metadata": {},
   "outputs": [],
   "source": [
    "df = pd.read_csv('zillow_2017.csv')"
   ]
  },
  {
   "cell_type": "code",
   "execution_count": 38,
   "id": "67cf32fb-ab5d-4449-8125-a5404586909d",
   "metadata": {},
   "outputs": [
    {
     "name": "stdout",
     "output_type": "stream",
     "text": [
      "<class 'pandas.core.frame.DataFrame'>\n",
      "RangeIndex: 2152863 entries, 0 to 2152862\n",
      "Data columns (total 8 columns):\n",
      " #   Column                        Non-Null Count    Dtype  \n",
      "---  ------                        --------------    -----  \n",
      " 0   parcelid                      2152863 non-null  int64  \n",
      " 1   bedroomcnt                    2152852 non-null  float64\n",
      " 2   bathroomcnt                   2152852 non-null  float64\n",
      " 3   calculatedfinishedsquarefeet  2144379 non-null  float64\n",
      " 4   taxvaluedollarcnt             2152370 non-null  float64\n",
      " 5   yearbuilt                     2143526 non-null  float64\n",
      " 6   taxamount                     2148421 non-null  float64\n",
      " 7   fips                          2152863 non-null  float64\n",
      "dtypes: float64(7), int64(1)\n",
      "memory usage: 131.4 MB\n"
     ]
    }
   ],
   "source": [
    "df.info(show_counts=True)"
   ]
  },
  {
   "cell_type": "code",
   "execution_count": 39,
   "id": "32633d99-498e-4301-b90c-ea4719ab9f97",
   "metadata": {},
   "outputs": [
    {
     "data": {
      "text/html": [
       "<div>\n",
       "<style scoped>\n",
       "    .dataframe tbody tr th:only-of-type {\n",
       "        vertical-align: middle;\n",
       "    }\n",
       "\n",
       "    .dataframe tbody tr th {\n",
       "        vertical-align: top;\n",
       "    }\n",
       "\n",
       "    .dataframe thead th {\n",
       "        text-align: right;\n",
       "    }\n",
       "</style>\n",
       "<table border=\"1\" class=\"dataframe\">\n",
       "  <thead>\n",
       "    <tr style=\"text-align: right;\">\n",
       "      <th></th>\n",
       "      <th>parcelid</th>\n",
       "      <th>bedroomcnt</th>\n",
       "      <th>bathroomcnt</th>\n",
       "      <th>calculatedfinishedsquarefeet</th>\n",
       "      <th>taxvaluedollarcnt</th>\n",
       "      <th>yearbuilt</th>\n",
       "      <th>taxamount</th>\n",
       "      <th>fips</th>\n",
       "    </tr>\n",
       "  </thead>\n",
       "  <tbody>\n",
       "    <tr>\n",
       "      <th>0</th>\n",
       "      <td>10759547</td>\n",
       "      <td>0.0</td>\n",
       "      <td>0.0</td>\n",
       "      <td>NaN</td>\n",
       "      <td>27516.0</td>\n",
       "      <td>NaN</td>\n",
       "      <td>NaN</td>\n",
       "      <td>6037.0</td>\n",
       "    </tr>\n",
       "    <tr>\n",
       "      <th>1</th>\n",
       "      <td>11193347</td>\n",
       "      <td>0.0</td>\n",
       "      <td>0.0</td>\n",
       "      <td>NaN</td>\n",
       "      <td>10.0</td>\n",
       "      <td>NaN</td>\n",
       "      <td>NaN</td>\n",
       "      <td>6037.0</td>\n",
       "    </tr>\n",
       "    <tr>\n",
       "      <th>2</th>\n",
       "      <td>11215747</td>\n",
       "      <td>0.0</td>\n",
       "      <td>0.0</td>\n",
       "      <td>NaN</td>\n",
       "      <td>10.0</td>\n",
       "      <td>NaN</td>\n",
       "      <td>NaN</td>\n",
       "      <td>6037.0</td>\n",
       "    </tr>\n",
       "    <tr>\n",
       "      <th>3</th>\n",
       "      <td>11229347</td>\n",
       "      <td>0.0</td>\n",
       "      <td>0.0</td>\n",
       "      <td>NaN</td>\n",
       "      <td>2108.0</td>\n",
       "      <td>NaN</td>\n",
       "      <td>174.21</td>\n",
       "      <td>6037.0</td>\n",
       "    </tr>\n",
       "    <tr>\n",
       "      <th>4</th>\n",
       "      <td>11324547</td>\n",
       "      <td>4.0</td>\n",
       "      <td>2.0</td>\n",
       "      <td>3633.0</td>\n",
       "      <td>296425.0</td>\n",
       "      <td>2005.0</td>\n",
       "      <td>6941.39</td>\n",
       "      <td>6037.0</td>\n",
       "    </tr>\n",
       "  </tbody>\n",
       "</table>\n",
       "</div>"
      ],
      "text/plain": [
       "   parcelid  bedroomcnt  bathroomcnt  calculatedfinishedsquarefeet  \\\n",
       "0  10759547         0.0          0.0                           NaN   \n",
       "1  11193347         0.0          0.0                           NaN   \n",
       "2  11215747         0.0          0.0                           NaN   \n",
       "3  11229347         0.0          0.0                           NaN   \n",
       "4  11324547         4.0          2.0                        3633.0   \n",
       "\n",
       "   taxvaluedollarcnt  yearbuilt  taxamount    fips  \n",
       "0            27516.0        NaN        NaN  6037.0  \n",
       "1               10.0        NaN        NaN  6037.0  \n",
       "2               10.0        NaN        NaN  6037.0  \n",
       "3             2108.0        NaN     174.21  6037.0  \n",
       "4           296425.0     2005.0    6941.39  6037.0  "
      ]
     },
     "execution_count": 39,
     "metadata": {},
     "output_type": "execute_result"
    }
   ],
   "source": [
    "df.head()"
   ]
  },
  {
   "cell_type": "code",
   "execution_count": 40,
   "id": "1c7a7881-72c4-441d-8e45-b86a9ba3d918",
   "metadata": {},
   "outputs": [],
   "source": [
    "# Rename columns\n",
    "df=df.rename(columns = {'parcelid':'parcel_id', 'bedroomcnt':'bedroom_cnt', 'bathroomcnt':'bathroom_cnt', 'calculatedfinishedsquarefeet':'square_feet',\n",
    "       'taxvaluedollarcnt':'tax_value', 'yearbuilt':'year_built', 'taxamount':'tax_amount'})"
   ]
  },
  {
   "cell_type": "code",
   "execution_count": 41,
   "id": "546a25c8-58e4-4a83-939e-1031ab91f812",
   "metadata": {},
   "outputs": [
    {
     "data": {
      "text/html": [
       "<div>\n",
       "<style scoped>\n",
       "    .dataframe tbody tr th:only-of-type {\n",
       "        vertical-align: middle;\n",
       "    }\n",
       "\n",
       "    .dataframe tbody tr th {\n",
       "        vertical-align: top;\n",
       "    }\n",
       "\n",
       "    .dataframe thead th {\n",
       "        text-align: right;\n",
       "    }\n",
       "</style>\n",
       "<table border=\"1\" class=\"dataframe\">\n",
       "  <thead>\n",
       "    <tr style=\"text-align: right;\">\n",
       "      <th></th>\n",
       "      <th>parcel_id</th>\n",
       "      <th>bedroom_cnt</th>\n",
       "      <th>bathroom_cnt</th>\n",
       "      <th>square_feet</th>\n",
       "      <th>tax_value</th>\n",
       "      <th>year_built</th>\n",
       "      <th>tax_amount</th>\n",
       "      <th>fips</th>\n",
       "    </tr>\n",
       "  </thead>\n",
       "  <tbody>\n",
       "    <tr>\n",
       "      <th>count</th>\n",
       "      <td>2.152863e+06</td>\n",
       "      <td>2.152852e+06</td>\n",
       "      <td>2.152852e+06</td>\n",
       "      <td>2.144379e+06</td>\n",
       "      <td>2.152370e+06</td>\n",
       "      <td>2.143526e+06</td>\n",
       "      <td>2.148421e+06</td>\n",
       "      <td>2.152863e+06</td>\n",
       "    </tr>\n",
       "    <tr>\n",
       "      <th>mean</th>\n",
       "      <td>1.309657e+07</td>\n",
       "      <td>3.287196e+00</td>\n",
       "      <td>2.230688e+00</td>\n",
       "      <td>1.862855e+03</td>\n",
       "      <td>4.618962e+05</td>\n",
       "      <td>1.960950e+03</td>\n",
       "      <td>5.634866e+03</td>\n",
       "      <td>6.048377e+03</td>\n",
       "    </tr>\n",
       "    <tr>\n",
       "      <th>std</th>\n",
       "      <td>5.171557e+06</td>\n",
       "      <td>9.547544e-01</td>\n",
       "      <td>9.992796e-01</td>\n",
       "      <td>1.222125e+03</td>\n",
       "      <td>6.996760e+05</td>\n",
       "      <td>2.216220e+01</td>\n",
       "      <td>8.178910e+03</td>\n",
       "      <td>2.043329e+01</td>\n",
       "    </tr>\n",
       "    <tr>\n",
       "      <th>min</th>\n",
       "      <td>1.071172e+07</td>\n",
       "      <td>0.000000e+00</td>\n",
       "      <td>0.000000e+00</td>\n",
       "      <td>1.000000e+00</td>\n",
       "      <td>1.000000e+00</td>\n",
       "      <td>1.801000e+03</td>\n",
       "      <td>1.850000e+00</td>\n",
       "      <td>6.037000e+03</td>\n",
       "    </tr>\n",
       "    <tr>\n",
       "      <th>25%</th>\n",
       "      <td>1.165907e+07</td>\n",
       "      <td>3.000000e+00</td>\n",
       "      <td>2.000000e+00</td>\n",
       "      <td>1.257000e+03</td>\n",
       "      <td>1.881702e+05</td>\n",
       "      <td>1.949000e+03</td>\n",
       "      <td>2.534980e+03</td>\n",
       "      <td>6.037000e+03</td>\n",
       "    </tr>\n",
       "    <tr>\n",
       "      <th>50%</th>\n",
       "      <td>1.259852e+07</td>\n",
       "      <td>3.000000e+00</td>\n",
       "      <td>2.000000e+00</td>\n",
       "      <td>1.623000e+03</td>\n",
       "      <td>3.276710e+05</td>\n",
       "      <td>1.958000e+03</td>\n",
       "      <td>4.108950e+03</td>\n",
       "      <td>6.037000e+03</td>\n",
       "    </tr>\n",
       "    <tr>\n",
       "      <th>75%</th>\n",
       "      <td>1.405609e+07</td>\n",
       "      <td>4.000000e+00</td>\n",
       "      <td>3.000000e+00</td>\n",
       "      <td>2.208000e+03</td>\n",
       "      <td>5.345270e+05</td>\n",
       "      <td>1.976000e+03</td>\n",
       "      <td>6.414320e+03</td>\n",
       "      <td>6.059000e+03</td>\n",
       "    </tr>\n",
       "    <tr>\n",
       "      <th>max</th>\n",
       "      <td>1.696019e+08</td>\n",
       "      <td>2.500000e+01</td>\n",
       "      <td>3.200000e+01</td>\n",
       "      <td>9.525760e+05</td>\n",
       "      <td>9.842891e+07</td>\n",
       "      <td>2.016000e+03</td>\n",
       "      <td>1.337756e+06</td>\n",
       "      <td>6.111000e+03</td>\n",
       "    </tr>\n",
       "  </tbody>\n",
       "</table>\n",
       "</div>"
      ],
      "text/plain": [
       "          parcel_id   bedroom_cnt  bathroom_cnt   square_feet     tax_value  \\\n",
       "count  2.152863e+06  2.152852e+06  2.152852e+06  2.144379e+06  2.152370e+06   \n",
       "mean   1.309657e+07  3.287196e+00  2.230688e+00  1.862855e+03  4.618962e+05   \n",
       "std    5.171557e+06  9.547544e-01  9.992796e-01  1.222125e+03  6.996760e+05   \n",
       "min    1.071172e+07  0.000000e+00  0.000000e+00  1.000000e+00  1.000000e+00   \n",
       "25%    1.165907e+07  3.000000e+00  2.000000e+00  1.257000e+03  1.881702e+05   \n",
       "50%    1.259852e+07  3.000000e+00  2.000000e+00  1.623000e+03  3.276710e+05   \n",
       "75%    1.405609e+07  4.000000e+00  3.000000e+00  2.208000e+03  5.345270e+05   \n",
       "max    1.696019e+08  2.500000e+01  3.200000e+01  9.525760e+05  9.842891e+07   \n",
       "\n",
       "         year_built    tax_amount          fips  \n",
       "count  2.143526e+06  2.148421e+06  2.152863e+06  \n",
       "mean   1.960950e+03  5.634866e+03  6.048377e+03  \n",
       "std    2.216220e+01  8.178910e+03  2.043329e+01  \n",
       "min    1.801000e+03  1.850000e+00  6.037000e+03  \n",
       "25%    1.949000e+03  2.534980e+03  6.037000e+03  \n",
       "50%    1.958000e+03  4.108950e+03  6.037000e+03  \n",
       "75%    1.976000e+03  6.414320e+03  6.059000e+03  \n",
       "max    2.016000e+03  1.337756e+06  6.111000e+03  "
      ]
     },
     "execution_count": 41,
     "metadata": {},
     "output_type": "execute_result"
    }
   ],
   "source": [
    "df.describe()"
   ]
  },
  {
   "cell_type": "code",
   "execution_count": 42,
   "id": "d01b1e01-8a44-46b2-9351-b6a388e322b7",
   "metadata": {},
   "outputs": [
    {
     "data": {
      "text/plain": [
       "parcel_id          0\n",
       "bedroom_cnt       11\n",
       "bathroom_cnt      11\n",
       "square_feet     8484\n",
       "tax_value        493\n",
       "year_built      9337\n",
       "tax_amount      4442\n",
       "fips               0\n",
       "dtype: int64"
      ]
     },
     "execution_count": 42,
     "metadata": {},
     "output_type": "execute_result"
    }
   ],
   "source": [
    "df.isna().sum()"
   ]
  },
  {
   "cell_type": "code",
   "execution_count": 10,
   "id": "7d928181-8c1e-4ef8-8c26-abc4f6a0ebaa",
   "metadata": {},
   "outputs": [],
   "source": [
    "# Looks like a number of missing values"
   ]
  },
  {
   "cell_type": "code",
   "execution_count": 11,
   "id": "bd4b6d41-6045-4bee-a516-225fb00a6b95",
   "metadata": {},
   "outputs": [
    {
     "name": "stdout",
     "output_type": "stream",
     "text": [
      "<class 'pandas.core.frame.DataFrame'>\n",
      "RangeIndex: 2152863 entries, 0 to 2152862\n",
      "Data columns (total 8 columns):\n",
      " #   Column        Dtype  \n",
      "---  ------        -----  \n",
      " 0   parcel_id     int64  \n",
      " 1   bedroom_cnt   float64\n",
      " 2   bathroom_cnt  float64\n",
      " 3   square_feet   float64\n",
      " 4   tax_value     float64\n",
      " 5   year_built    float64\n",
      " 6   tax_amount    float64\n",
      " 7   fips          float64\n",
      "dtypes: float64(7), int64(1)\n",
      "memory usage: 131.4 MB\n"
     ]
    }
   ],
   "source": [
    "df.info()"
   ]
  },
  {
   "cell_type": "code",
   "execution_count": 12,
   "id": "645ba226-2cd4-491e-8d8c-edb309c84231",
   "metadata": {},
   "outputs": [],
   "source": [
    "# year built should really be an int"
   ]
  },
  {
   "cell_type": "code",
   "execution_count": 13,
   "id": "23d3bbd5-fb1d-4813-9fa6-18e05a41f022",
   "metadata": {},
   "outputs": [
    {
     "data": {
      "text/plain": [
       "2152863"
      ]
     },
     "execution_count": 13,
     "metadata": {},
     "output_type": "execute_result"
    }
   ],
   "source": [
    "df.shape[0]"
   ]
  },
  {
   "cell_type": "code",
   "execution_count": 14,
   "id": "33d3ebc3-4e11-4423-a22e-817cdaa5eb8a",
   "metadata": {},
   "outputs": [
    {
     "data": {
      "text/plain": [
       "12628"
      ]
     },
     "execution_count": 14,
     "metadata": {},
     "output_type": "execute_result"
    }
   ],
   "source": [
    "# Lots of Nulls in yearbuilt and taxamount and square feet\n",
    "df.shape[0] - df.dropna().shape[0]"
   ]
  },
  {
   "cell_type": "code",
   "execution_count": 15,
   "id": "c82d1888-8865-4886-82ab-18db8d376670",
   "metadata": {},
   "outputs": [
    {
     "data": {
      "text/plain": [
       "0.005865677472277613"
      ]
     },
     "execution_count": 15,
     "metadata": {},
     "output_type": "execute_result"
    }
   ],
   "source": [
    "(df.shape[0] - df.dropna().shape[0])/df.shape[0]"
   ]
  },
  {
   "cell_type": "markdown",
   "id": "c7951420-4fd7-473a-b8c2-6418ece70607",
   "metadata": {},
   "source": [
    "There are 12,628 rows that would be dropped if we drop all the nulls. This represents <0.6% of dataset"
   ]
  },
  {
   "cell_type": "code",
   "execution_count": 16,
   "id": "e5ef7870-6c43-4576-b466-61391b69890b",
   "metadata": {},
   "outputs": [],
   "source": [
    "df = df.dropna()"
   ]
  },
  {
   "cell_type": "code",
   "execution_count": 17,
   "id": "89c49666-f80a-4454-9d34-744712492cc0",
   "metadata": {},
   "outputs": [
    {
     "data": {
      "text/plain": [
       "parcel_id         int64\n",
       "bedroom_cnt     float64\n",
       "bathroom_cnt    float64\n",
       "square_feet     float64\n",
       "tax_value       float64\n",
       "year_built      float64\n",
       "tax_amount      float64\n",
       "fips            float64\n",
       "dtype: object"
      ]
     },
     "execution_count": 17,
     "metadata": {},
     "output_type": "execute_result"
    }
   ],
   "source": [
    "#Convert datatypes\n",
    "df.dtypes"
   ]
  },
  {
   "cell_type": "code",
   "execution_count": 18,
   "id": "2f890d1b-1c85-494c-92c1-aafc4e2a2a77",
   "metadata": {},
   "outputs": [],
   "source": [
    "# Year and bedroom count should be integers. No such thing as half bedroom\n",
    "df.year_built = df.year_built.astype('int64')\n",
    "df.bedroom_cnt = df.bedroom_cnt.astype('int64')"
   ]
  },
  {
   "cell_type": "code",
   "execution_count": 19,
   "id": "16d227ad-8f8c-4592-a521-18b71115b2fa",
   "metadata": {},
   "outputs": [
    {
     "data": {
      "text/plain": [
       "parcel_id         int64\n",
       "bedroom_cnt       int64\n",
       "bathroom_cnt    float64\n",
       "square_feet     float64\n",
       "tax_value       float64\n",
       "year_built        int64\n",
       "tax_amount      float64\n",
       "fips            float64\n",
       "dtype: object"
      ]
     },
     "execution_count": 19,
     "metadata": {},
     "output_type": "execute_result"
    }
   ],
   "source": [
    "df.dtypes"
   ]
  },
  {
   "cell_type": "code",
   "execution_count": 20,
   "id": "8aa36f3d-cac8-4554-8450-7f1c1378c8aa",
   "metadata": {},
   "outputs": [
    {
     "data": {
      "text/html": [
       "<div>\n",
       "<style scoped>\n",
       "    .dataframe tbody tr th:only-of-type {\n",
       "        vertical-align: middle;\n",
       "    }\n",
       "\n",
       "    .dataframe tbody tr th {\n",
       "        vertical-align: top;\n",
       "    }\n",
       "\n",
       "    .dataframe thead th {\n",
       "        text-align: right;\n",
       "    }\n",
       "</style>\n",
       "<table border=\"1\" class=\"dataframe\">\n",
       "  <thead>\n",
       "    <tr style=\"text-align: right;\">\n",
       "      <th></th>\n",
       "      <th>parcel_id</th>\n",
       "      <th>bedroom_cnt</th>\n",
       "      <th>bathroom_cnt</th>\n",
       "      <th>square_feet</th>\n",
       "      <th>tax_value</th>\n",
       "      <th>year_built</th>\n",
       "      <th>tax_amount</th>\n",
       "      <th>fips</th>\n",
       "    </tr>\n",
       "  </thead>\n",
       "  <tbody>\n",
       "    <tr>\n",
       "      <th>count</th>\n",
       "      <td>2.140235e+06</td>\n",
       "      <td>2.140235e+06</td>\n",
       "      <td>2.140235e+06</td>\n",
       "      <td>2.140235e+06</td>\n",
       "      <td>2.140235e+06</td>\n",
       "      <td>2.140235e+06</td>\n",
       "      <td>2.140235e+06</td>\n",
       "      <td>2.140235e+06</td>\n",
       "    </tr>\n",
       "    <tr>\n",
       "      <th>mean</th>\n",
       "      <td>1.304843e+07</td>\n",
       "      <td>3.301419e+00</td>\n",
       "      <td>2.240352e+00</td>\n",
       "      <td>1.863194e+03</td>\n",
       "      <td>4.606416e+05</td>\n",
       "      <td>1.960968e+03</td>\n",
       "      <td>5.616711e+03</td>\n",
       "      <td>6.048310e+03</td>\n",
       "    </tr>\n",
       "    <tr>\n",
       "      <th>std</th>\n",
       "      <td>4.568911e+06</td>\n",
       "      <td>9.325998e-01</td>\n",
       "      <td>9.905489e-01</td>\n",
       "      <td>1.221754e+03</td>\n",
       "      <td>6.771576e+05</td>\n",
       "      <td>2.215056e+01</td>\n",
       "      <td>7.814563e+03</td>\n",
       "      <td>2.034491e+01</td>\n",
       "    </tr>\n",
       "    <tr>\n",
       "      <th>min</th>\n",
       "      <td>1.071172e+07</td>\n",
       "      <td>0.000000e+00</td>\n",
       "      <td>0.000000e+00</td>\n",
       "      <td>1.000000e+00</td>\n",
       "      <td>2.200000e+01</td>\n",
       "      <td>1.801000e+03</td>\n",
       "      <td>6.340000e+00</td>\n",
       "      <td>6.037000e+03</td>\n",
       "    </tr>\n",
       "    <tr>\n",
       "      <th>25%</th>\n",
       "      <td>1.165653e+07</td>\n",
       "      <td>3.000000e+00</td>\n",
       "      <td>2.000000e+00</td>\n",
       "      <td>1.258000e+03</td>\n",
       "      <td>1.891660e+05</td>\n",
       "      <td>1.949000e+03</td>\n",
       "      <td>2.540850e+03</td>\n",
       "      <td>6.037000e+03</td>\n",
       "    </tr>\n",
       "    <tr>\n",
       "      <th>50%</th>\n",
       "      <td>1.259605e+07</td>\n",
       "      <td>3.000000e+00</td>\n",
       "      <td>2.000000e+00</td>\n",
       "      <td>1.623000e+03</td>\n",
       "      <td>3.282960e+05</td>\n",
       "      <td>1.958000e+03</td>\n",
       "      <td>4.111470e+03</td>\n",
       "      <td>6.037000e+03</td>\n",
       "    </tr>\n",
       "    <tr>\n",
       "      <th>75%</th>\n",
       "      <td>1.405310e+07</td>\n",
       "      <td>4.000000e+00</td>\n",
       "      <td>3.000000e+00</td>\n",
       "      <td>2.208000e+03</td>\n",
       "      <td>5.346060e+05</td>\n",
       "      <td>1.976000e+03</td>\n",
       "      <td>6.411930e+03</td>\n",
       "      <td>6.059000e+03</td>\n",
       "    </tr>\n",
       "    <tr>\n",
       "      <th>max</th>\n",
       "      <td>1.681836e+08</td>\n",
       "      <td>2.500000e+01</td>\n",
       "      <td>3.200000e+01</td>\n",
       "      <td>9.525760e+05</td>\n",
       "      <td>9.018846e+07</td>\n",
       "      <td>2.016000e+03</td>\n",
       "      <td>1.078102e+06</td>\n",
       "      <td>6.111000e+03</td>\n",
       "    </tr>\n",
       "  </tbody>\n",
       "</table>\n",
       "</div>"
      ],
      "text/plain": [
       "          parcel_id   bedroom_cnt  bathroom_cnt   square_feet     tax_value  \\\n",
       "count  2.140235e+06  2.140235e+06  2.140235e+06  2.140235e+06  2.140235e+06   \n",
       "mean   1.304843e+07  3.301419e+00  2.240352e+00  1.863194e+03  4.606416e+05   \n",
       "std    4.568911e+06  9.325998e-01  9.905489e-01  1.221754e+03  6.771576e+05   \n",
       "min    1.071172e+07  0.000000e+00  0.000000e+00  1.000000e+00  2.200000e+01   \n",
       "25%    1.165653e+07  3.000000e+00  2.000000e+00  1.258000e+03  1.891660e+05   \n",
       "50%    1.259605e+07  3.000000e+00  2.000000e+00  1.623000e+03  3.282960e+05   \n",
       "75%    1.405310e+07  4.000000e+00  3.000000e+00  2.208000e+03  5.346060e+05   \n",
       "max    1.681836e+08  2.500000e+01  3.200000e+01  9.525760e+05  9.018846e+07   \n",
       "\n",
       "         year_built    tax_amount          fips  \n",
       "count  2.140235e+06  2.140235e+06  2.140235e+06  \n",
       "mean   1.960968e+03  5.616711e+03  6.048310e+03  \n",
       "std    2.215056e+01  7.814563e+03  2.034491e+01  \n",
       "min    1.801000e+03  6.340000e+00  6.037000e+03  \n",
       "25%    1.949000e+03  2.540850e+03  6.037000e+03  \n",
       "50%    1.958000e+03  4.111470e+03  6.037000e+03  \n",
       "75%    1.976000e+03  6.411930e+03  6.059000e+03  \n",
       "max    2.016000e+03  1.078102e+06  6.111000e+03  "
      ]
     },
     "execution_count": 20,
     "metadata": {},
     "output_type": "execute_result"
    }
   ],
   "source": [
    "df.describe()"
   ]
  },
  {
   "cell_type": "markdown",
   "id": "a1aca636-b633-44ee-863c-4e829e47e9e2",
   "metadata": {},
   "source": [
    "## Visualize Distributions"
   ]
  },
  {
   "cell_type": "code",
   "execution_count": 21,
   "id": "30683d6b-b52d-4dcd-a819-105ff1e33cc4",
   "metadata": {},
   "outputs": [
    {
     "data": {
      "text/plain": [
       "Index(['parcel_id', 'bedroom_cnt', 'bathroom_cnt', 'square_feet', 'tax_value',\n",
       "       'year_built', 'tax_amount', 'fips'],\n",
       "      dtype='object')"
      ]
     },
     "execution_count": 21,
     "metadata": {},
     "output_type": "execute_result"
    }
   ],
   "source": [
    "df.columns"
   ]
  },
  {
   "cell_type": "markdown",
   "id": "e7436cb3-32f9-474e-8167-ed5ca263d157",
   "metadata": {},
   "source": [
    "### Fips - only 3 values"
   ]
  },
  {
   "cell_type": "code",
   "execution_count": 22,
   "id": "7daa45b6-3767-45ac-91d0-4bbcf40948c7",
   "metadata": {},
   "outputs": [
    {
     "data": {
      "image/png": "[encoded data removed]",
      "text/plain": [
       "<Figure size 432x288 with 1 Axes>"
      ]
     },
     "metadata": {
      "needs_background": "light"
     },
     "output_type": "display_data"
    }
   ],
   "source": [
    "df.fips.hist()\n",
    "plt.title(\"FIPS is a location code\\ndataset seems fairly concentrated in 6040\")\n",
    "plt.tight_layout()"
   ]
  },
  {
   "cell_type": "markdown",
   "id": "de5a1f23-c8f2-448b-9e65-9221b629a7e3",
   "metadata": {},
   "source": [
    "### Bath and bedroom count - some very high outliers"
   ]
  },
  {
   "cell_type": "code",
   "execution_count": 23,
   "id": "c15a0e1b-53dc-4871-b482-a7157d35c013",
   "metadata": {},
   "outputs": [
    {
     "data": {
      "text/plain": [
       "Text(0.5, 1.0, 'Some very high outliers')"
      ]
     },
     "execution_count": 23,
     "metadata": {},
     "output_type": "execute_result"
    },
    {
     "data": {
      "image/png": "[encoded data removed]",
      "text/plain": [
       "<Figure size 432x288 with 1 Axes>"
      ]
     },
     "metadata": {
      "needs_background": "light"
     },
     "output_type": "display_data"
    }
   ],
   "source": [
    "sns.boxplot(data = df[['bedroom_cnt','bathroom_cnt']])\n",
    "plt.title('Some very high outliers')"
   ]
  },
  {
   "cell_type": "code",
   "execution_count": 24,
   "id": "61dec60f-144b-47be-88d4-b6808d24cfc1",
   "metadata": {},
   "outputs": [
    {
     "data": {
      "text/plain": [
       "Text(0.5, 1.0, 'Bedroom Count: Fairly normally distributed')"
      ]
     },
     "execution_count": 24,
     "metadata": {},
     "output_type": "execute_result"
    },
    {
     "data": {
      "image/png": "[encoded data removed]",
      "text/plain": [
       "<Figure size 432x288 with 1 Axes>"
      ]
     },
     "metadata": {
      "needs_background": "light"
     },
     "output_type": "display_data"
    }
   ],
   "source": [
    "df.bedroom_cnt.hist(bins=range(10))\n",
    "plt.title(\"Bedroom Count: Fairly normally distributed\")"
   ]
  },
  {
   "cell_type": "code",
   "execution_count": 25,
   "id": "709aa3bb-811e-4527-b9de-217be739705a",
   "metadata": {},
   "outputs": [
    {
     "data": {
      "text/plain": [
       "Text(0.5, 1.0, 'Bathroom count: Fairly normally distributed')"
      ]
     },
     "execution_count": 25,
     "metadata": {},
     "output_type": "execute_result"
    },
    {
     "data": {
      "image/png": "[encoded data removed]",
      "text/plain": [
       "<Figure size 432x288 with 1 Axes>"
      ]
     },
     "metadata": {
      "needs_background": "light"
     },
     "output_type": "display_data"
    }
   ],
   "source": [
    "df.bathroom_cnt.hist(bins=range(10))\n",
    "plt.title(\"Bathroom count: Fairly normally distributed\")"
   ]
  },
  {
   "cell_type": "markdown",
   "id": "b428f6de-57c3-4e64-9cc9-17e2a1a4b0dc",
   "metadata": {
    "tags": []
   },
   "source": [
    "### Tax Value - also very high outliers\n",
    " - Some very high tax amounts make it difficult to see the majority of values in the 0-10000 range\n",
    " - Also some very high tax values"
   ]
  },
  {
   "cell_type": "code",
   "execution_count": 26,
   "id": "f6e1fb69-3ac3-4670-86da-9bd826cdf713",
   "metadata": {},
   "outputs": [
    {
     "data": {
      "text/plain": [
       "Text(0.5, 1.0, 'Some very high outliers')"
      ]
     },
     "execution_count": 26,
     "metadata": {},
     "output_type": "execute_result"
    },
    {
     "data": {
      "image/png": "[encoded data removed]",
      "text/plain": [
       "<Figure size 432x288 with 1 Axes>"
      ]
     },
     "metadata": {
      "needs_background": "light"
     },
     "output_type": "display_data"
    }
   ],
   "source": [
    "sns.boxplot(data=df[['tax_value']])\n",
    "plt.title('Some very high outliers')"
   ]
  },
  {
   "cell_type": "markdown",
   "id": "7197a3a5-e861-4558-897d-0c549b48c09b",
   "metadata": {},
   "source": [
    "### Tax amount"
   ]
  },
  {
   "cell_type": "code",
   "execution_count": 27,
   "id": "54c776d0-702f-4008-bf15-2cee5d9a66e2",
   "metadata": {},
   "outputs": [
    {
     "data": {
      "text/plain": [
       "Text(0.5, 1.0, 'Some very high outliers - may make sense to drop')"
      ]
     },
     "execution_count": 27,
     "metadata": {},
     "output_type": "execute_result"
    },
    {
     "data": {
      "image/png": "[encoded data removed]",
      "text/plain": [
       "<Figure size 432x288 with 1 Axes>"
      ]
     },
     "metadata": {
      "needs_background": "light"
     },
     "output_type": "display_data"
    }
   ],
   "source": [
    "sns.boxplot(data=df[['tax_amount']])\n",
    "plt.title('Some very high outliers - may make sense to drop')"
   ]
  },
  {
   "cell_type": "code",
   "execution_count": 28,
   "id": "00ff0e0c-fc90-4c4b-b4b8-39a0592ed5cc",
   "metadata": {},
   "outputs": [
    {
     "data": {
      "text/plain": [
       "7754"
      ]
     },
     "execution_count": 28,
     "metadata": {},
     "output_type": "execute_result"
    }
   ],
   "source": [
    "(df.tax_amount>50000).sum()"
   ]
  },
  {
   "cell_type": "code",
   "execution_count": 29,
   "id": "b40e0b8c-8b75-497e-b1ad-0a0a4fd53d73",
   "metadata": {},
   "outputs": [
    {
     "data": {
      "text/plain": [
       "Text(0.5, 1.0, 'Tax amount capped at 50000')"
      ]
     },
     "execution_count": 29,
     "metadata": {},
     "output_type": "execute_result"
    },
    {
     "data": {
      "image/png": "[encoded data removed]",
      "text/plain": [
       "<Figure size 432x288 with 1 Axes>"
      ]
     },
     "metadata": {
      "needs_background": "light"
     },
     "output_type": "display_data"
    }
   ],
   "source": [
    "cap = 50_000\n",
    "(df.tax_amount>cap).sum()\n",
    "\n",
    "df[df.tax_amount<cap].tax_amount.hist()\n",
    "plt.title(f\"Tax amount capped at {cap}\")"
   ]
  },
  {
   "cell_type": "code",
   "execution_count": 30,
   "id": "ac1254c2-0f59-42b7-a456-c9298c4ccd2d",
   "metadata": {},
   "outputs": [
    {
     "data": {
      "text/plain": [
       "Text(0.5, 1.0, 'Tax values, capped at 1000000')"
      ]
     },
     "execution_count": 30,
     "metadata": {},
     "output_type": "execute_result"
    },
    {
     "data": {
      "image/png": "[encoded data removed]",
      "text/plain": [
       "<Figure size 432x288 with 1 Axes>"
      ]
     },
     "metadata": {
      "needs_background": "light"
     },
     "output_type": "display_data"
    }
   ],
   "source": [
    "cap = 1_000_000\n",
    "(df.tax_value>cap).sum()\n",
    "\n",
    "df[df.tax_value<cap].tax_value.hist()\n",
    "plt.title(f\"Tax values, capped at {cap}\")"
   ]
  },
  {
   "cell_type": "markdown",
   "id": "7603928a-6eb6-45b5-a194-497f1a8904ec",
   "metadata": {},
   "source": [
    "### Square footage:\n",
    " - Some very high outliers above 30000 - mansions?"
   ]
  },
  {
   "cell_type": "code",
   "execution_count": 31,
   "id": "d833d5d8-bec7-4846-a818-9ac34ea26b26",
   "metadata": {},
   "outputs": [
    {
     "data": {
      "text/plain": [
       "Text(0.5, 1.0, 'Some very high outliers-nearly a million square feet, make sense?')"
      ]
     },
     "execution_count": 31,
     "metadata": {},
     "output_type": "execute_result"
    },
    {
     "data": {
      "image/png": "[encoded data removed]",
      "text/plain": [
       "<Figure size 432x288 with 1 Axes>"
      ]
     },
     "metadata": {
      "needs_background": "light"
     },
     "output_type": "display_data"
    }
   ],
   "source": [
    "sns.boxplot(data=df[['square_feet']])\n",
    "plt.title('Some very high outliers-nearly a million square feet, make sense?')"
   ]
  },
  {
   "cell_type": "code",
   "execution_count": 32,
   "id": "a8d956b6-df20-4114-82e1-b1db49a87153",
   "metadata": {},
   "outputs": [
    {
     "data": {
      "text/plain": [
       "Text(0.5, 1.0, 'Square feet distribution for those under 5000 sq ft: Fairly normal ')"
      ]
     },
     "execution_count": 32,
     "metadata": {},
     "output_type": "execute_result"
    },
    {
     "data": {
      "image/png": "[encoded data removed]",
      "text/plain": [
       "<Figure size 432x288 with 1 Axes>"
      ]
     },
     "metadata": {
      "needs_background": "light"
     },
     "output_type": "display_data"
    }
   ],
   "source": [
    "threshold = 5000\n",
    "df[df.square_feet<threshold].square_feet.hist()\n",
    "plt.title(f\"Square feet distribution for those under {threshold} sq ft: Fairly normal \")"
   ]
  },
  {
   "cell_type": "markdown",
   "id": "11bd54aa-8aa3-4009-a172-293a63e57331",
   "metadata": {},
   "source": [
    "### Year built - some historical, some modern"
   ]
  },
  {
   "cell_type": "code",
   "execution_count": 33,
   "id": "f1025716-7ab0-47e6-a8b7-ad54fabf6459",
   "metadata": {},
   "outputs": [
    {
     "data": {
      "text/plain": [
       "Text(0.5, 1.0, 'Reasonable distribution')"
      ]
     },
     "execution_count": 33,
     "metadata": {},
     "output_type": "execute_result"
    },
    {
     "data": {
      "image/png": "[encoded data removed]",
      "text/plain": [
       "<Figure size 432x288 with 1 Axes>"
      ]
     },
     "metadata": {
      "needs_background": "light"
     },
     "output_type": "display_data"
    }
   ],
   "source": [
    "sns.boxplot(data=df[['year_built']])\n",
    "plt.title('Reasonable distribution')"
   ]
  },
  {
   "cell_type": "code",
   "execution_count": 34,
   "id": "4b551477-c38e-4d59-ae5b-d5f26f3f70d8",
   "metadata": {},
   "outputs": [
    {
     "data": {
      "text/plain": [
       "Text(0.5, 1.0, 'Year built: Fairly normal distribution')"
      ]
     },
     "execution_count": 34,
     "metadata": {},
     "output_type": "execute_result"
    },
    {
     "data": {
      "image/png": "[encoded data removed]",
      "text/plain": [
       "<Figure size 432x288 with 1 Axes>"
      ]
     },
     "metadata": {
      "needs_background": "light"
     },
     "output_type": "display_data"
    }
   ],
   "source": [
    "df.year_built.hist()\n",
    "plt.title(\"Year built: Fairly normal distribution\")"
   ]
  },
  {
   "cell_type": "code",
   "execution_count": 35,
   "id": "c3f637f0-4731-4947-8d88-a05c8b9cb080",
   "metadata": {},
   "outputs": [
    {
     "name": "stdout",
     "output_type": "stream",
     "text": [
      "Data split as follows: Train 56.00%, Validate 24.00%, Test 20.00%\n"
     ]
    }
   ],
   "source": [
    "train, validate, test =split_data(df)"
   ]
  },
  {
   "cell_type": "code",
   "execution_count": null,
   "id": "fd3ea3e3-bd09-4da2-8671-df7e2ffdab22",
   "metadata": {},
   "outputs": [],
   "source": []
  }
 ],
 "metadata": {
  "kernelspec": {
   "display_name": "Python 3.9.7 64-bit ('base': conda)",
   "language": "python",
   "name": "python397jvsc74a57bd038cca0c38332a56087b24af0bc80247f4fced29cb4f7f437d91dc159adec9c4e"
  },
  "language_info": {
   "codemirror_mode": {
    "name": "ipython",
    "version": 3
   },
   "file_extension": ".py",
   "mimetype": "text/x-python",
   "name": "python",
   "nbconvert_exporter": "python",
   "pygments_lexer": "ipython3",
   "version": "3.9.7"
  }
 },
 "nbformat": 4,
 "nbformat_minor": 5
}
