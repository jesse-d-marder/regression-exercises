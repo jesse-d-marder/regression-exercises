{
 "cells": [
  {
   "cell_type": "code",
   "execution_count": 1,
   "id": "3c03ec9b-22ed-4e92-a908-b78ba55d24e1",
   "metadata": {},
   "outputs": [],
   "source": [
    "import pandas as pd\n",
    "import numpy as np\n",
    "import matplotlib.pyplot as plt\n",
    "\n",
    "import seaborn as sns\n",
    "from pydataset import data\n",
    "\n",
    "from sklearn.feature_selection import SelectKBest, f_regression, RFE\n",
    "from sklearn.preprocessing import MinMaxScaler\n",
    "from sklearn.linear_model import LinearRegression\n",
    "\n",
    "from wrangle import split_data"
   ]
  },
  {
   "cell_type": "code",
   "execution_count": 2,
   "id": "6518b99a-faab-40cd-a451-1fc022013edb",
   "metadata": {},
   "outputs": [],
   "source": [
    "df = data('tips')"
   ]
  },
  {
   "cell_type": "code",
   "execution_count": 3,
   "id": "02c2c258-3a2f-4f5c-80c5-720e300bbfcf",
   "metadata": {},
   "outputs": [
    {
     "data": {
      "text/html": [
       "<div>\n",
       "<style scoped>\n",
       "    .dataframe tbody tr th:only-of-type {\n",
       "        vertical-align: middle;\n",
       "    }\n",
       "\n",
       "    .dataframe tbody tr th {\n",
       "        vertical-align: top;\n",
       "    }\n",
       "\n",
       "    .dataframe thead th {\n",
       "        text-align: right;\n",
       "    }\n",
       "</style>\n",
       "<table border=\"1\" class=\"dataframe\">\n",
       "  <thead>\n",
       "    <tr style=\"text-align: right;\">\n",
       "      <th></th>\n",
       "      <th>total_bill</th>\n",
       "      <th>tip</th>\n",
       "      <th>sex</th>\n",
       "      <th>smoker</th>\n",
       "      <th>day</th>\n",
       "      <th>time</th>\n",
       "      <th>size</th>\n",
       "    </tr>\n",
       "  </thead>\n",
       "  <tbody>\n",
       "    <tr>\n",
       "      <th>1</th>\n",
       "      <td>16.99</td>\n",
       "      <td>1.01</td>\n",
       "      <td>Female</td>\n",
       "      <td>No</td>\n",
       "      <td>Sun</td>\n",
       "      <td>Dinner</td>\n",
       "      <td>2</td>\n",
       "    </tr>\n",
       "    <tr>\n",
       "      <th>2</th>\n",
       "      <td>10.34</td>\n",
       "      <td>1.66</td>\n",
       "      <td>Male</td>\n",
       "      <td>No</td>\n",
       "      <td>Sun</td>\n",
       "      <td>Dinner</td>\n",
       "      <td>3</td>\n",
       "    </tr>\n",
       "    <tr>\n",
       "      <th>3</th>\n",
       "      <td>21.01</td>\n",
       "      <td>3.50</td>\n",
       "      <td>Male</td>\n",
       "      <td>No</td>\n",
       "      <td>Sun</td>\n",
       "      <td>Dinner</td>\n",
       "      <td>3</td>\n",
       "    </tr>\n",
       "    <tr>\n",
       "      <th>4</th>\n",
       "      <td>23.68</td>\n",
       "      <td>3.31</td>\n",
       "      <td>Male</td>\n",
       "      <td>No</td>\n",
       "      <td>Sun</td>\n",
       "      <td>Dinner</td>\n",
       "      <td>2</td>\n",
       "    </tr>\n",
       "    <tr>\n",
       "      <th>5</th>\n",
       "      <td>24.59</td>\n",
       "      <td>3.61</td>\n",
       "      <td>Female</td>\n",
       "      <td>No</td>\n",
       "      <td>Sun</td>\n",
       "      <td>Dinner</td>\n",
       "      <td>4</td>\n",
       "    </tr>\n",
       "  </tbody>\n",
       "</table>\n",
       "</div>"
      ],
      "text/plain": [
       "   total_bill   tip     sex smoker  day    time  size\n",
       "1       16.99  1.01  Female     No  Sun  Dinner     2\n",
       "2       10.34  1.66    Male     No  Sun  Dinner     3\n",
       "3       21.01  3.50    Male     No  Sun  Dinner     3\n",
       "4       23.68  3.31    Male     No  Sun  Dinner     2\n",
       "5       24.59  3.61  Female     No  Sun  Dinner     4"
      ]
     },
     "execution_count": 3,
     "metadata": {},
     "output_type": "execute_result"
    }
   ],
   "source": [
    "df.head()"
   ]
  },
  {
   "cell_type": "code",
   "execution_count": 4,
   "id": "635c3e60-4937-45fc-8951-3707610f4fb1",
   "metadata": {},
   "outputs": [],
   "source": [
    "# Get dummy variables for sex, smoker, and time\n",
    "df = pd.get_dummies(df, columns = ['sex','smoker','time'],drop_first=True)"
   ]
  },
  {
   "cell_type": "code",
   "execution_count": 5,
   "id": "0868b86a-a56c-4f12-b714-81cddcb836e7",
   "metadata": {},
   "outputs": [],
   "source": [
    "# Convert day to number - this is ordinal data\n",
    "df.day = df['day'].astype('category')\n",
    "df.day = df.day.cat.reorder_categories(['Thur','Fri','Sat','Sun'])\n",
    "df.day = df.day.cat.codes"
   ]
  },
  {
   "cell_type": "code",
   "execution_count": 6,
   "id": "6f8eb591-5a72-428d-9517-52634213e652",
   "metadata": {},
   "outputs": [],
   "source": [
    "df['price_per_person'] = df.total_bill/df.size"
   ]
  },
  {
   "cell_type": "code",
   "execution_count": 7,
   "id": "19100fc3-54b2-4e18-9ed5-f8ba4df7b021",
   "metadata": {},
   "outputs": [
    {
     "name": "stdout",
     "output_type": "stream",
     "text": [
      "Data split as follows: Train 56.00%, Validate 24.00%, Test 20.00%\n"
     ]
    }
   ],
   "source": [
    "train, validate, test = split_data(df)"
   ]
  },
  {
   "cell_type": "code",
   "execution_count": 8,
   "id": "133f2d2f-a5e2-4fd4-8f4e-dd6a9a49849f",
   "metadata": {},
   "outputs": [],
   "source": [
    "train = train.reset_index()"
   ]
  },
  {
   "cell_type": "markdown",
   "id": "484ef419-29f9-4429-b172-81716b0310da",
   "metadata": {
    "tags": []
   },
   "source": [
    "### Which features do I think will be most important for predicting tip amount?\n",
    "- total_bill\n",
    "- size"
   ]
  },
  {
   "cell_type": "markdown",
   "id": "1338edba-afe7-41db-9e24-06861ddc0067",
   "metadata": {},
   "source": [
    "Use k best to select top 2 features for predicting tip amount"
   ]
  },
  {
   "cell_type": "code",
   "execution_count": 9,
   "id": "758296c9-f3c5-41c7-b3ec-4aa04dabe6e6",
   "metadata": {},
   "outputs": [],
   "source": [
    "# Scale total bill, size of part, and day of week data\n",
    "scale = MinMaxScaler()\n",
    "scale.fit(train[['total_bill','size','day']])\n",
    "scaled_data = scale.transform(train[['total_bill','size','day']])\n",
    "\n",
    "scaled_data_df = pd.DataFrame(data = scaled_data, columns = ['total_bill_scaled','size_scaled','day_scaled'])\n",
    "\n",
    "train = pd.concat([train, scaled_data_df], axis = 1)"
   ]
  },
  {
   "cell_type": "code",
   "execution_count": 10,
   "id": "5be9bce4-af28-4935-b08d-35568c1ba178",
   "metadata": {},
   "outputs": [
    {
     "data": {
      "text/plain": [
       "Index(['index', 'total_bill', 'tip', 'day', 'size', 'sex_Male', 'smoker_Yes',\n",
       "       'time_Lunch', 'price_per_person', 'total_bill_scaled', 'size_scaled',\n",
       "       'day_scaled'],\n",
       "      dtype='object')"
      ]
     },
     "execution_count": 10,
     "metadata": {},
     "output_type": "execute_result"
    }
   ],
   "source": [
    "train.columns"
   ]
  },
  {
   "cell_type": "code",
   "execution_count": 11,
   "id": "9a1b8fb4-d6b6-418b-b24a-b754014097cf",
   "metadata": {},
   "outputs": [],
   "source": [
    "X_scaled = train[['total_bill_scaled','size_scaled','price_per_person','day_scaled','sex_Male','smoker_Yes','time_Lunch']]\n",
    "y_train = train.tip"
   ]
  },
  {
   "cell_type": "code",
   "execution_count": 12,
   "id": "0082ec8a-f5c7-4c4e-a749-86a8c49053b0",
   "metadata": {},
   "outputs": [],
   "source": [
    "# f_regression stats test for top 2\n",
    "f_selector = SelectKBest(f_regression, k=2)\n",
    "# find the top 2 X's correlated with y\n",
    "f_selector.fit(X_scaled,y_train)\n",
    "# Boolean mask of whether the column was selected or now\n",
    "feature_mask = f_selector.get_support()\n",
    "# List of top k features\n",
    "f_feature = X_scaled.iloc[:,feature_mask].columns.tolist()"
   ]
  },
  {
   "cell_type": "code",
   "execution_count": 13,
   "id": "a059ab9a-a2a1-49c0-9a2e-3f30695dd3f2",
   "metadata": {},
   "outputs": [
    {
     "name": "stdout",
     "output_type": "stream",
     "text": [
      "Top 2 features based on SelectKBest are ['total_bill_scaled', 'price_per_person']\n"
     ]
    }
   ],
   "source": [
    "print(f'Top 2 features based on SelectKBest are {f_feature}')"
   ]
  },
  {
   "cell_type": "markdown",
   "id": "59fb5890-6110-443b-b6be-df06cb58ec2e",
   "metadata": {},
   "source": [
    "Use recursive feature elimination to select top 2"
   ]
  },
  {
   "cell_type": "code",
   "execution_count": 14,
   "id": "e7f82ed8-0f7c-49ba-89b5-b7c49bfcd52d",
   "metadata": {},
   "outputs": [],
   "source": [
    "# initialize the ML algorithm\n",
    "lm = LinearRegression()\n",
    "\n",
    "# create the rfe object, indicating the ML object (lm) and the number of features I want to end up with. \n",
    "rfe = RFE(lm, n_features_to_select=2)\n",
    "\n",
    "# fit the data using RFE\n",
    "rfe.fit(X_scaled,y_train)  \n",
    "\n",
    "# get the mask of the columns selected\n",
    "feature_mask = rfe.support_\n",
    "\n",
    "# get list of the column names. \n",
    "rfe_feature = X_scaled.iloc[:,feature_mask].columns.tolist()\n"
   ]
  },
  {
   "cell_type": "code",
   "execution_count": 15,
   "id": "ac5b19a5-8ee2-4bb5-b404-137613ea46c0",
   "metadata": {},
   "outputs": [
    {
     "name": "stdout",
     "output_type": "stream",
     "text": [
      "Top 2 features based on RFE ['total_bill_scaled', 'size_scaled']\n"
     ]
    }
   ],
   "source": [
    "print(f'Top 2 features based on RFE {rfe_feature}')"
   ]
  },
  {
   "cell_type": "code",
   "execution_count": 16,
   "id": "16941e91-c502-48f5-97a6-ec3ec466393c",
   "metadata": {},
   "outputs": [
    {
     "data": {
      "text/html": [
       "<div>\n",
       "<style scoped>\n",
       "    .dataframe tbody tr th:only-of-type {\n",
       "        vertical-align: middle;\n",
       "    }\n",
       "\n",
       "    .dataframe tbody tr th {\n",
       "        vertical-align: top;\n",
       "    }\n",
       "\n",
       "    .dataframe thead th {\n",
       "        text-align: right;\n",
       "    }\n",
       "</style>\n",
       "<table border=\"1\" class=\"dataframe\">\n",
       "  <thead>\n",
       "    <tr style=\"text-align: right;\">\n",
       "      <th></th>\n",
       "      <th>Var</th>\n",
       "      <th>Rank</th>\n",
       "    </tr>\n",
       "  </thead>\n",
       "  <tbody>\n",
       "    <tr>\n",
       "      <th>0</th>\n",
       "      <td>total_bill_scaled</td>\n",
       "      <td>1</td>\n",
       "    </tr>\n",
       "    <tr>\n",
       "      <th>1</th>\n",
       "      <td>size_scaled</td>\n",
       "      <td>1</td>\n",
       "    </tr>\n",
       "    <tr>\n",
       "      <th>4</th>\n",
       "      <td>sex_Male</td>\n",
       "      <td>2</td>\n",
       "    </tr>\n",
       "    <tr>\n",
       "      <th>3</th>\n",
       "      <td>day_scaled</td>\n",
       "      <td>3</td>\n",
       "    </tr>\n",
       "    <tr>\n",
       "      <th>2</th>\n",
       "      <td>price_per_person</td>\n",
       "      <td>4</td>\n",
       "    </tr>\n",
       "    <tr>\n",
       "      <th>5</th>\n",
       "      <td>smoker_Yes</td>\n",
       "      <td>5</td>\n",
       "    </tr>\n",
       "    <tr>\n",
       "      <th>6</th>\n",
       "      <td>time_Lunch</td>\n",
       "      <td>6</td>\n",
       "    </tr>\n",
       "  </tbody>\n",
       "</table>\n",
       "</div>"
      ],
      "text/plain": [
       "                 Var  Rank\n",
       "0  total_bill_scaled     1\n",
       "1        size_scaled     1\n",
       "4           sex_Male     2\n",
       "3         day_scaled     3\n",
       "2   price_per_person     4\n",
       "5         smoker_Yes     5\n",
       "6         time_Lunch     6"
      ]
     },
     "execution_count": 16,
     "metadata": {},
     "output_type": "execute_result"
    }
   ],
   "source": [
    "# view list of columns and their ranking\n",
    "\n",
    "# get the ranks\n",
    "var_ranks = rfe.ranking_\n",
    "# get the variable names\n",
    "var_names = X_scaled.columns.tolist()\n",
    "# combine ranks and names into a df for clean viewing\n",
    "rfe_ranks_df = pd.DataFrame({'Var': var_names, 'Rank': var_ranks})\n",
    "# sort the df by rank\n",
    "rfe_ranks_df.sort_values('Rank')\n"
   ]
  },
  {
   "cell_type": "markdown",
   "id": "36f4d348-de5d-48c7-b15c-68b8a1efdcc5",
   "metadata": {},
   "source": [
    "### I think k best chooses total_bill_scaled and price per person because they are highly correlated and it is evaluating each feature in isolation. Clearly total bill is most important and price per person is directly proportional to total bill. For recursive feature elimination it takes into account interaction between features."
   ]
  },
  {
   "cell_type": "markdown",
   "id": "ae92d6e2-99d0-42e3-b30d-29b7ff43fd14",
   "metadata": {},
   "source": [
    "## 2. Function for select k best"
   ]
  },
  {
   "cell_type": "code",
   "execution_count": 20,
   "id": "92d760ff-12d6-4e0c-947c-1c35d30c9e97",
   "metadata": {},
   "outputs": [],
   "source": [
    "def select_kbest(X, y, k):\n",
    "    \"\"\" Takes in predictors (X), target (y) , and number of features to select (k) and returns the names \n",
    "    of the top k selected features based on the SelectKBest class.\"\"\"\n",
    "    # f_regression stats test for top 2\n",
    "    f_selector = SelectKBest(f_regression, k=k)\n",
    "    # find the top 2 X's correlated with y\n",
    "    f_selector.fit(X,y)\n",
    "    # Boolean mask of whether the column was selected or now\n",
    "    feature_mask = f_selector.get_support()\n",
    "    # List of top k features\n",
    "    return X.iloc[:,feature_mask].columns.tolist()"
   ]
  },
  {
   "cell_type": "code",
   "execution_count": 21,
   "id": "9eca920d-dc2c-4069-a08a-2547b6839e2a",
   "metadata": {},
   "outputs": [
    {
     "data": {
      "text/plain": [
       "['total_bill_scaled', 'price_per_person']"
      ]
     },
     "execution_count": 21,
     "metadata": {},
     "output_type": "execute_result"
    }
   ],
   "source": [
    "select_kbest(X_scaled, y_train, k=2)"
   ]
  },
  {
   "cell_type": "markdown",
   "id": "9f1e5259-fce7-4638-8ffc-5ec321ea79b1",
   "metadata": {},
   "source": [
    "## 3. Function for rfe"
   ]
  },
  {
   "cell_type": "code",
   "execution_count": 24,
   "id": "9847353f-9fbe-441c-9293-6c2c64ccc93b",
   "metadata": {},
   "outputs": [],
   "source": [
    "def rfe(X,y,k):\n",
    "    \"\"\" Takes in predictors (X), target (y) , and number of features to select (k) and returns the names \n",
    "    of the top k selected features based on the RFE class.\"\"\"\n",
    "    # initialize the ML algorithm\n",
    "    lm = LinearRegression()\n",
    "\n",
    "    # create the rfe object, indicating the ML object (lm) and the number of features I want to end up with. \n",
    "    rfe = RFE(lm, n_features_to_select=k)\n",
    "\n",
    "    # fit the data using RFE\n",
    "    rfe.fit(X,y)  \n",
    "\n",
    "    # get the mask of the columns selected\n",
    "    feature_mask = rfe.support_\n",
    "\n",
    "    # get list of the column names. \n",
    "    return X.iloc[:,feature_mask].columns.tolist()"
   ]
  },
  {
   "cell_type": "code",
   "execution_count": 25,
   "id": "a1eb18ff-5b2e-4481-aa9d-3519e8e7592a",
   "metadata": {},
   "outputs": [
    {
     "data": {
      "text/plain": [
       "['total_bill_scaled', 'size_scaled']"
      ]
     },
     "execution_count": 25,
     "metadata": {},
     "output_type": "execute_result"
    }
   ],
   "source": [
    "rfe(X_scaled, y_train,2)"
   ]
  },
  {
   "cell_type": "markdown",
   "id": "8512345d-561f-4503-9582-c3743fa71257",
   "metadata": {},
   "source": [
    "## 4. Swiss dataset, predict fertility. Find top 3 features using both kbest and rfe"
   ]
  },
  {
   "cell_type": "code",
   "execution_count": 26,
   "id": "518b5759-5704-4889-a563-3047b66ce733",
   "metadata": {},
   "outputs": [],
   "source": [
    "swiss = data('swiss')"
   ]
  },
  {
   "cell_type": "code",
   "execution_count": 57,
   "id": "2036ceb7-f3c3-450a-8943-2b39eb97b64a",
   "metadata": {},
   "outputs": [
    {
     "name": "stdout",
     "output_type": "stream",
     "text": [
      "Data split as follows: Train 56.00%, Validate 24.00%, Test 20.00%\n"
     ]
    }
   ],
   "source": [
    "train, validate, test = split_data(swiss)"
   ]
  },
  {
   "cell_type": "code",
   "execution_count": 58,
   "id": "5300d5ca-50e1-45c6-8360-852688315d12",
   "metadata": {},
   "outputs": [],
   "source": [
    "train = train.reset_index()"
   ]
  },
  {
   "cell_type": "code",
   "execution_count": 59,
   "id": "b594b8be-c80a-4659-aaec-b6fb6fa9bb36",
   "metadata": {},
   "outputs": [
    {
     "data": {
      "text/plain": [
       "Index(['index', 'Fertility', 'Agriculture', 'Examination', 'Education',\n",
       "       'Catholic', 'Infant.Mortality'],\n",
       "      dtype='object')"
      ]
     },
     "execution_count": 59,
     "metadata": {},
     "output_type": "execute_result"
    }
   ],
   "source": [
    "train.columns"
   ]
  },
  {
   "cell_type": "code",
   "execution_count": 61,
   "id": "75a4dd27-a1bb-4b20-a9f4-e993cbcab5fc",
   "metadata": {},
   "outputs": [],
   "source": [
    "# Scale the data\n",
    "scaler = MinMaxScaler()\n",
    "\n",
    "scaled_data = scaler.fit_transform(train[['Agriculture', 'Examination', 'Education', 'Catholic',\n",
    "       'Infant.Mortality']])\n",
    "scaled_data_df = pd.DataFrame(data = scaled_data, columns = ['Agriculture_scaled', 'Examination_scaled', 'Education_scaled', 'Catholic_scaled',\n",
    "       'Infant.Mortality_scaled'])"
   ]
  },
  {
   "cell_type": "code",
   "execution_count": 62,
   "id": "0aa41da2-64c2-4248-82c1-9137cb334f0a",
   "metadata": {},
   "outputs": [],
   "source": [
    "train = pd.concat([train, scaled_data_df], axis = 1)"
   ]
  },
  {
   "cell_type": "code",
   "execution_count": 64,
   "id": "0c31396b-12c0-40d0-ba07-93c091fb0cb2",
   "metadata": {},
   "outputs": [],
   "source": [
    "X = train[['Agriculture_scaled', 'Examination_scaled', 'Education_scaled', 'Catholic_scaled',\n",
    "       'Infant.Mortality_scaled']]\n",
    "y = train.Fertility"
   ]
  },
  {
   "cell_type": "code",
   "execution_count": 65,
   "id": "60e93440-45f0-4750-b2cc-6b3c1f81a2c9",
   "metadata": {},
   "outputs": [
    {
     "data": {
      "text/plain": [
       "['Examination_scaled', 'Catholic_scaled', 'Infant.Mortality_scaled']"
      ]
     },
     "execution_count": 65,
     "metadata": {},
     "output_type": "execute_result"
    }
   ],
   "source": [
    "select_kbest(X, y, 3)"
   ]
  },
  {
   "cell_type": "code",
   "execution_count": 66,
   "id": "0fd07c9c-c170-4c33-ac58-accfe88fe02d",
   "metadata": {},
   "outputs": [
    {
     "data": {
      "text/plain": [
       "['Agriculture_scaled', 'Examination_scaled', 'Infant.Mortality_scaled']"
      ]
     },
     "execution_count": 66,
     "metadata": {},
     "output_type": "execute_result"
    }
   ],
   "source": [
    "rfe(X,y,3)"
   ]
  },
  {
   "cell_type": "markdown",
   "id": "e5bd26a4-dfa0-442a-9062-014014e9cc75",
   "metadata": {},
   "source": [
    "### Checking if scaled data makes a difference"
   ]
  },
  {
   "cell_type": "code",
   "execution_count": 68,
   "id": "257c7d72-a31f-4692-bd46-4dc1d0eafae6",
   "metadata": {},
   "outputs": [
    {
     "data": {
      "text/plain": [
       "['Examination', 'Catholic', 'Infant.Mortality']"
      ]
     },
     "execution_count": 68,
     "metadata": {},
     "output_type": "execute_result"
    }
   ],
   "source": [
    "X = train[['Agriculture', 'Examination', 'Education', 'Catholic',\n",
    "       'Infant.Mortality']]\n",
    "select_kbest(X, y, 3)"
   ]
  },
  {
   "cell_type": "code",
   "execution_count": 67,
   "id": "b581b638-42b7-490b-aaa4-29e440e73716",
   "metadata": {},
   "outputs": [
    {
     "data": {
      "text/plain": [
       "['Agriculture', 'Examination', 'Infant.Mortality']"
      ]
     },
     "execution_count": 67,
     "metadata": {},
     "output_type": "execute_result"
    }
   ],
   "source": [
    "rfe(X,y,3)"
   ]
  },
  {
   "cell_type": "markdown",
   "id": "cbb28caf-501e-440d-8cc3-54a2b79d4501",
   "metadata": {},
   "source": [
    "### Same results scaled or not"
   ]
  },
  {
   "cell_type": "code",
   "execution_count": null,
   "id": "0564764f-44af-4179-8f93-4a90c0ab8d41",
   "metadata": {},
   "outputs": [],
   "source": []
  }
 ],
 "metadata": {
  "kernelspec": {
   "display_name": "Python 3.9.7 64-bit ('base': conda)",
   "language": "python",
   "name": "python397jvsc74a57bd038cca0c38332a56087b24af0bc80247f4fced29cb4f7f437d91dc159adec9c4e"
  },
  "language_info": {
   "codemirror_mode": {
    "name": "ipython",
    "version": 3
   },
   "file_extension": ".py",
   "mimetype": "text/x-python",
   "name": "python",
   "nbconvert_exporter": "python",
   "pygments_lexer": "ipython3",
   "version": "3.9.7"
  }
 },
 "nbformat": 4,
 "nbformat_minor": 5
}
