{
 "cells": [
  {
   "cell_type": "code",
   "execution_count": 1,
   "id": "470b39e3-59ab-48eb-8dc9-88549f4d5552",
   "metadata": {},
   "outputs": [],
   "source": [
    "from wrangle import split_data, wrangle_zillow, scale_data\n",
    "import pandas as pd\n",
    "import sklearn.preprocessing\n",
    "import matplotlib.pyplot as plt"
   ]
  },
  {
   "cell_type": "markdown",
   "id": "a5b4810a-b6af-4d8c-afb2-12d8db105fdc",
   "metadata": {},
   "source": [
    "### Wrangle Zillow Data"
   ]
  },
  {
   "cell_type": "code",
   "execution_count": 2,
   "id": "de8551a1-5008-44a7-8ee5-5ab7f2a77b39",
   "metadata": {},
   "outputs": [
    {
     "name": "stdout",
     "output_type": "stream",
     "text": [
      "Using cached data\n"
     ]
    }
   ],
   "source": [
    "df = wrangle_zillow()"
   ]
  },
  {
   "cell_type": "code",
   "execution_count": 3,
   "id": "49fe3f69-ad04-4549-8cbe-5508842e738a",
   "metadata": {},
   "outputs": [
    {
     "name": "stdout",
     "output_type": "stream",
     "text": [
      "Data split as follows: Train 56.00%, Validate 24.00%, Test 20.00%\n"
     ]
    }
   ],
   "source": [
    "train, validate, test = split_data(df)"
   ]
  },
  {
   "cell_type": "markdown",
   "id": "acef598c-d7ed-4c7b-bbea-ce13ade007aa",
   "metadata": {},
   "source": [
    "### Apply scalars from lesson and visualize: Min-Max, Standard, and Robust"
   ]
  },
  {
   "cell_type": "markdown",
   "id": "56775c40-ad4d-4187-bc48-894873c7c5d1",
   "metadata": {},
   "source": [
    "#### Min Max"
   ]
  },
  {
   "cell_type": "code",
   "execution_count": null,
   "id": "18c2cdff-4a1f-4b00-b229-a588af34c371",
   "metadata": {},
   "outputs": [],
   "source": [
    "columns = ['bedroom_cnt', 'bathroom_cnt', 'square_feet', 'tax_value','tax_amount',\n",
    "       'year_built']"
   ]
  },
  {
   "cell_type": "code",
   "execution_count": null,
   "id": "8c1f9d55-7e40-4d75-8e05-e9572ac54e00",
   "metadata": {},
   "outputs": [],
   "source": [
    "for col in columns:\n",
    "    scaler = sklearn.preprocessing.MinMaxScaler()\n",
    "    scaler.fit(train[[col]])\n",
    "    train_scaled = scaler.transform(train[[col]])\n",
    "    plt.figure(figsize=(13, 6))\n",
    "    plt.subplot(121)\n",
    "    plt.hist(train[col], bins=15, ec='black')\n",
    "    plt.title(f'Original {col}')\n",
    "    plt.subplot(122)\n",
    "    plt.hist(train_scaled, bins=100, ec='black')\n",
    "    plt.title(f'Scaled {col}: MinMax')\n",
    "    plt.show()"
   ]
  },
  {
   "cell_type": "markdown",
   "id": "818e2d24-7e03-44d0-968e-51119e3325c3",
   "metadata": {},
   "source": [
    "#### Standard Scaler"
   ]
  },
  {
   "cell_type": "code",
   "execution_count": null,
   "id": "577abd45-a927-418e-8396-5a48bd056946",
   "metadata": {},
   "outputs": [],
   "source": [
    "for col in columns:\n",
    "    scaler = sklearn.preprocessing.StandardScaler()\n",
    "    scaler.fit(train[[col]])\n",
    "    train_scaled = scaler.transform(train[[col]])\n",
    "    plt.figure(figsize=(13, 6))\n",
    "    plt.subplot(121)\n",
    "    plt.hist(train[col], bins=25, ec='black')\n",
    "    plt.title(f'Original {col}')\n",
    "    plt.subplot(122)\n",
    "    plt.hist(train_scaled, bins=100, ec='black')\n",
    "    plt.title(f'Scaled {col}: Standard Scaler')\n",
    "    plt.show()"
   ]
  },
  {
   "cell_type": "markdown",
   "id": "3f466c48-ed6b-4f9e-ad52-2ebb7c8e3c16",
   "metadata": {},
   "source": [
    "#### Robust"
   ]
  },
  {
   "cell_type": "code",
   "execution_count": null,
   "id": "9b52d256-edf2-4fa9-ad16-2ff4fbd8ac49",
   "metadata": {},
   "outputs": [],
   "source": [
    "for col in columns:\n",
    "    scaler = sklearn.preprocessing.RobustScaler()\n",
    "    scaler.fit(train[[col]])\n",
    "    train_scaled = scaler.transform(train[[col]])\n",
    "    plt.figure(figsize=(13, 6))\n",
    "    plt.subplot(121)\n",
    "    plt.hist(train[col], bins=25, ec='black')\n",
    "    plt.title(f'Original {col}')\n",
    "    plt.subplot(122)\n",
    "    plt.hist(train_scaled, bins=100, ec='black')\n",
    "    plt.title(f'Scaled {col}: Robust Scaler')\n",
    "    plt.show()"
   ]
  },
  {
   "cell_type": "markdown",
   "id": "0bb3a8a6-66c3-4241-b916-3de1a1941bcb",
   "metadata": {},
   "source": [
    "### 2. Inverse Transform"
   ]
  },
  {
   "cell_type": "code",
   "execution_count": null,
   "id": "6ecfeeeb-52c7-41c4-a4a3-9d19ab864a77",
   "metadata": {},
   "outputs": [],
   "source": [
    "# for col in columns:\n",
    "col = 'tax_value'\n",
    "scaler = sklearn.preprocessing.MinMaxScaler()\n",
    "scaler.fit(train[[col]])\n",
    "train_scaled = scaler.transform(train[[col]])\n",
    "inverse_train_scaled = scaler.inverse_transform(train_scaled)\n",
    "plt.figure(figsize=(13, 6))\n",
    "plt.subplot(131)\n",
    "plt.hist(train[col], bins=15, ec='black')\n",
    "plt.title(f'Original {col}')\n",
    "plt.subplot(132)\n",
    "plt.hist(train_scaled, bins=100, ec='black')\n",
    "plt.title(f'Scaled {col}: MinMax')\n",
    "plt.subplot(133)\n",
    "plt.hist(inverse_train_scaled, bins=15, ec='black')\n",
    "plt.title(f'Inverse Transform of scaled data for \\n{col}: MinMax')\n",
    "plt.tight_layout()\n",
    "plt.show()"
   ]
  },
  {
   "cell_type": "code",
   "execution_count": null,
   "id": "f8c1101f-ed58-4b76-b445-7001e623473b",
   "metadata": {},
   "outputs": [],
   "source": [
    "both = train[[col]]\n",
    "\n",
    "both[\"inverse_train_scaled\"] = inverse_train_scaled\n",
    "\n",
    "both[\"difference\"] = both.inverse_train_scaled - both.tax_value"
   ]
  },
  {
   "cell_type": "code",
   "execution_count": null,
   "id": "516aa108-71a4-4b89-910c-ffec18d627d4",
   "metadata": {},
   "outputs": [],
   "source": [
    "both.difference.mean()"
   ]
  },
  {
   "cell_type": "markdown",
   "id": "80522d8b-ae13-4795-8d35-f1bae4f98754",
   "metadata": {},
   "source": [
    "### Using Tax Value as an example -  after applying the inverse transform to the scaled data the resulting dataset appears to be extremely close to the original but a very slight difference (average difference of -1.348985242062614e-13)"
   ]
  },
  {
   "cell_type": "markdown",
   "id": "d9cf6b90-3243-49a3-b237-66e240978c95",
   "metadata": {},
   "source": [
    "### For bedroom count"
   ]
  },
  {
   "cell_type": "code",
   "execution_count": null,
   "id": "925c7f8d-700c-46bf-9fc3-9ea3f191a1b0",
   "metadata": {},
   "outputs": [],
   "source": [
    "# for col in columns:\n",
    "col = 'bedroom_cnt'\n",
    "scaler = sklearn.preprocessing.MinMaxScaler()\n",
    "scaler.fit(train[[col]])\n",
    "train_scaled = scaler.transform(train[[col]])\n",
    "inverse_train_scaled = scaler.inverse_transform(train_scaled)\n",
    "plt.figure(figsize=(13, 6))\n",
    "plt.subplot(131)\n",
    "plt.hist(train[col], bins=15, ec='black')\n",
    "plt.title(f'Original {col}')\n",
    "plt.subplot(132)\n",
    "plt.hist(train_scaled, bins=100, ec='black')\n",
    "plt.title(f'Scaled {col}: MinMax')\n",
    "plt.subplot(133)\n",
    "plt.hist(inverse_train_scaled, bins=100, ec='black')\n",
    "plt.title(f'Inverse Transform {col}: MinMax')\n",
    "plt.show()"
   ]
  },
  {
   "cell_type": "code",
   "execution_count": null,
   "id": "c5aedb8f-0a7d-4fc3-95c7-c23459988e25",
   "metadata": {},
   "outputs": [],
   "source": [
    "both = train[[col]]\n",
    "\n",
    "both[\"inverse_train_scaled\"] = inverse_train_scaled\n",
    "\n",
    "both[\"difference\"] = both.inverse_train_scaled - both.bedroom_cnt"
   ]
  },
  {
   "cell_type": "code",
   "execution_count": null,
   "id": "9507baca-97ff-419f-9a93-ef5edc626cb5",
   "metadata": {},
   "outputs": [],
   "source": [
    "both.difference.min()"
   ]
  },
  {
   "cell_type": "markdown",
   "id": "b3509d2f-4a76-48da-bcc9-fe02ba39e527",
   "metadata": {},
   "source": [
    "### Well for bedroom count they are exactly the same - maybe because it's an integer?"
   ]
  },
  {
   "cell_type": "markdown",
   "id": "6c9109bb-469e-49fe-b521-fdb20cfa8322",
   "metadata": {},
   "source": [
    "# 3. Quantile Transformer using normal for output_distribution. Apply scaler to data, visualize"
   ]
  },
  {
   "cell_type": "code",
   "execution_count": null,
   "id": "3125ba64-69f8-44f1-b50d-1e58502a9aff",
   "metadata": {},
   "outputs": [],
   "source": [
    "for col in columns:\n",
    "    scaler = sklearn.preprocessing.QuantileTransformer(output_distribution='normal')\n",
    "    scaler.fit(train[[col]])\n",
    "    train_scaled = scaler.transform(train[[col]])\n",
    "    plt.figure(figsize=(13, 6))\n",
    "    plt.subplot(121)\n",
    "    plt.hist(train[col], bins=25, ec='black')\n",
    "    plt.title(f'Original {col}')\n",
    "    plt.subplot(122)\n",
    "    plt.hist(train_scaled, ec='black')\n",
    "    plt.title(f'Scaled {col}: Quantile Transformer Scaler (Normal)')\n",
    "    plt.show()"
   ]
  },
  {
   "cell_type": "markdown",
   "id": "a37305f9-579c-4d69-8f59-977e6fb8cf47",
   "metadata": {},
   "source": [
    "### ->Quantile Transform certainly makes the data look normalized"
   ]
  },
  {
   "cell_type": "code",
   "execution_count": null,
   "id": "4ff6ddb4-2349-40f6-aa63-a5527d4262cc",
   "metadata": {},
   "outputs": [],
   "source": [
    "for col in columns:\n",
    "    scaler = sklearn.preprocessing.QuantileTransformer()\n",
    "    scaler.fit(train[[col]])\n",
    "    train_scaled = scaler.transform(train[[col]])\n",
    "    plt.figure(figsize=(13, 6))\n",
    "    plt.subplot(121)\n",
    "    plt.hist(train[col], bins=25, ec='black')\n",
    "    plt.title(f'Original {col}')\n",
    "    plt.subplot(122)\n",
    "    plt.hist(train_scaled,  ec='black')\n",
    "    plt.title(f'Scaled {col}: Quantile Transformer (uniform)')\n",
    "    plt.show()"
   ]
  },
  {
   "cell_type": "markdown",
   "id": "a52b6b78-7866-49b4-95c0-688792f4b8b1",
   "metadata": {},
   "source": [
    "## With uniform quantile scaling the outliers are not distinct, basically invisible"
   ]
  },
  {
   "cell_type": "markdown",
   "id": "c7f08194-8282-4624-a85d-8b85dd39b039",
   "metadata": {},
   "source": [
    "## Write funciton to scale data for zillow data, put in prepare.py"
   ]
  },
  {
   "cell_type": "code",
   "execution_count": null,
   "id": "884c3737-a0eb-4668-b51c-5c3486df14d6",
   "metadata": {},
   "outputs": [],
   "source": [
    "def scale_data(train, validate, test, features_to_scale):\n",
    "    \"\"\"Scales Zillow data using MinMax Scaler. \n",
    "    Accepts train, validate, and test datasets as inputs as well as a list of the features to scale. \n",
    "    Returns dataframe with scaled values added on as columns\"\"\"\n",
    "    \n",
    "    # Fit the scaler to train data only\n",
    "    scaler = sklearn.preprocessing.MinMaxScaler()\n",
    "    scaler.fit(train[features_to_scale])\n",
    "    \n",
    "    # Generate a list of the new column names with _scaled added on\n",
    "    scaled_columns = [col+\"_scaled\" for col in features_to_scale]\n",
    "    \n",
    "    # Transform the separate datasets using the scaler learned from train\n",
    "    scaled_train = scaler.transform(train[features_to_scale])\n",
    "    scaled_validate = scaler.transform(validate[features_to_scale])\n",
    "    scaled_test = scaler.transform(test[features_to_scale])\n",
    "    \n",
    "    # Concatenate the scaled data to the original unscaled data\n",
    "    train_scaled = pd.concat([train, pd.DataFrame(scaled_train,index=train.index, columns = scaled_columns)],axis=1)\n",
    "    validate_scaled = pd.concat([validate, pd.DataFrame(scaled_validate,index=validate.index, columns = scaled_columns)],axis=1)\n",
    "    test_scaled = pd.concat([test, pd.DataFrame(scaled_test,index=test.index, columns = scaled_columns)],axis=1)\n",
    "\n",
    "    return train_scaled, validate_scaled, test_scaled"
   ]
  },
  {
   "cell_type": "code",
   "execution_count": 5,
   "id": "98300488-a4c6-4891-873d-f4157ce4c692",
   "metadata": {},
   "outputs": [],
   "source": [
    "features_to_scale = ['bedroom_cnt', 'bathroom_cnt', 'square_feet', 'tax_value',\n",
    "       'year_built', 'tax_amount']"
   ]
  },
  {
   "cell_type": "code",
   "execution_count": 6,
   "id": "259b4086-1066-424f-8ece-19c97c87dbac",
   "metadata": {},
   "outputs": [],
   "source": [
    "train_scaled, validate_scaled, test_scaled = scale_data(train, validate, test, features_to_scale)"
   ]
  },
  {
   "cell_type": "code",
   "execution_count": 7,
   "id": "b4ae9ff0-9191-45cb-99a5-3c00bb100ce2",
   "metadata": {},
   "outputs": [
    {
     "data": {
      "text/html": [
       "<div>\n",
       "<style scoped>\n",
       "    .dataframe tbody tr th:only-of-type {\n",
       "        vertical-align: middle;\n",
       "    }\n",
       "\n",
       "    .dataframe tbody tr th {\n",
       "        vertical-align: top;\n",
       "    }\n",
       "\n",
       "    .dataframe thead th {\n",
       "        text-align: right;\n",
       "    }\n",
       "</style>\n",
       "<table border=\"1\" class=\"dataframe\">\n",
       "  <thead>\n",
       "    <tr style=\"text-align: right;\">\n",
       "      <th></th>\n",
       "      <th>parcel_id</th>\n",
       "      <th>bedroom_cnt</th>\n",
       "      <th>bathroom_cnt</th>\n",
       "      <th>square_feet</th>\n",
       "      <th>tax_value</th>\n",
       "      <th>year_built</th>\n",
       "      <th>tax_amount</th>\n",
       "      <th>fips</th>\n",
       "      <th>bedroom_cnt_scaled</th>\n",
       "      <th>bathroom_cnt_scaled</th>\n",
       "      <th>square_feet_scaled</th>\n",
       "      <th>tax_value_scaled</th>\n",
       "      <th>year_built_scaled</th>\n",
       "      <th>tax_amount_scaled</th>\n",
       "    </tr>\n",
       "  </thead>\n",
       "  <tbody>\n",
       "    <tr>\n",
       "      <th>1567873</th>\n",
       "      <td>12832154</td>\n",
       "      <td>3</td>\n",
       "      <td>1.0</td>\n",
       "      <td>1248.0</td>\n",
       "      <td>191578.0</td>\n",
       "      <td>1950</td>\n",
       "      <td>2712.21</td>\n",
       "      <td>6037.0</td>\n",
       "      <td>0.200000</td>\n",
       "      <td>0.03125</td>\n",
       "      <td>0.001309</td>\n",
       "      <td>0.002124</td>\n",
       "      <td>0.693023</td>\n",
       "      <td>0.002510</td>\n",
       "    </tr>\n",
       "    <tr>\n",
       "      <th>1218138</th>\n",
       "      <td>10914505</td>\n",
       "      <td>2</td>\n",
       "      <td>2.0</td>\n",
       "      <td>1326.0</td>\n",
       "      <td>1345206.0</td>\n",
       "      <td>1950</td>\n",
       "      <td>16539.04</td>\n",
       "      <td>6037.0</td>\n",
       "      <td>0.133333</td>\n",
       "      <td>0.06250</td>\n",
       "      <td>0.001391</td>\n",
       "      <td>0.014915</td>\n",
       "      <td>0.693023</td>\n",
       "      <td>0.015335</td>\n",
       "    </tr>\n",
       "    <tr>\n",
       "      <th>339661</th>\n",
       "      <td>12639487</td>\n",
       "      <td>2</td>\n",
       "      <td>1.0</td>\n",
       "      <td>1053.0</td>\n",
       "      <td>356648.0</td>\n",
       "      <td>1953</td>\n",
       "      <td>4575.16</td>\n",
       "      <td>6037.0</td>\n",
       "      <td>0.133333</td>\n",
       "      <td>0.03125</td>\n",
       "      <td>0.001104</td>\n",
       "      <td>0.003954</td>\n",
       "      <td>0.706977</td>\n",
       "      <td>0.004238</td>\n",
       "    </tr>\n",
       "    <tr>\n",
       "      <th>1017133</th>\n",
       "      <td>12268872</td>\n",
       "      <td>3</td>\n",
       "      <td>2.0</td>\n",
       "      <td>1256.0</td>\n",
       "      <td>175069.0</td>\n",
       "      <td>1946</td>\n",
       "      <td>2635.51</td>\n",
       "      <td>6037.0</td>\n",
       "      <td>0.200000</td>\n",
       "      <td>0.06250</td>\n",
       "      <td>0.001317</td>\n",
       "      <td>0.001941</td>\n",
       "      <td>0.674419</td>\n",
       "      <td>0.002439</td>\n",
       "    </tr>\n",
       "    <tr>\n",
       "      <th>40250</th>\n",
       "      <td>13924017</td>\n",
       "      <td>3</td>\n",
       "      <td>2.0</td>\n",
       "      <td>1640.0</td>\n",
       "      <td>543000.0</td>\n",
       "      <td>1957</td>\n",
       "      <td>6344.96</td>\n",
       "      <td>6059.0</td>\n",
       "      <td>0.200000</td>\n",
       "      <td>0.06250</td>\n",
       "      <td>0.001721</td>\n",
       "      <td>0.006020</td>\n",
       "      <td>0.725581</td>\n",
       "      <td>0.005879</td>\n",
       "    </tr>\n",
       "    <tr>\n",
       "      <th>...</th>\n",
       "      <td>...</td>\n",
       "      <td>...</td>\n",
       "      <td>...</td>\n",
       "      <td>...</td>\n",
       "      <td>...</td>\n",
       "      <td>...</td>\n",
       "      <td>...</td>\n",
       "      <td>...</td>\n",
       "      <td>...</td>\n",
       "      <td>...</td>\n",
       "      <td>...</td>\n",
       "      <td>...</td>\n",
       "      <td>...</td>\n",
       "      <td>...</td>\n",
       "    </tr>\n",
       "    <tr>\n",
       "      <th>941799</th>\n",
       "      <td>12290590</td>\n",
       "      <td>2</td>\n",
       "      <td>1.0</td>\n",
       "      <td>696.0</td>\n",
       "      <td>27699.0</td>\n",
       "      <td>1954</td>\n",
       "      <td>918.71</td>\n",
       "      <td>6037.0</td>\n",
       "      <td>0.133333</td>\n",
       "      <td>0.03125</td>\n",
       "      <td>0.000730</td>\n",
       "      <td>0.000307</td>\n",
       "      <td>0.711628</td>\n",
       "      <td>0.000846</td>\n",
       "    </tr>\n",
       "    <tr>\n",
       "      <th>631585</th>\n",
       "      <td>12934374</td>\n",
       "      <td>3</td>\n",
       "      <td>3.0</td>\n",
       "      <td>2081.0</td>\n",
       "      <td>619590.0</td>\n",
       "      <td>1987</td>\n",
       "      <td>7319.49</td>\n",
       "      <td>6037.0</td>\n",
       "      <td>0.200000</td>\n",
       "      <td>0.09375</td>\n",
       "      <td>0.002184</td>\n",
       "      <td>0.006870</td>\n",
       "      <td>0.865116</td>\n",
       "      <td>0.006783</td>\n",
       "    </tr>\n",
       "    <tr>\n",
       "      <th>883917</th>\n",
       "      <td>10769349</td>\n",
       "      <td>3</td>\n",
       "      <td>2.0</td>\n",
       "      <td>1742.0</td>\n",
       "      <td>196237.0</td>\n",
       "      <td>1957</td>\n",
       "      <td>2512.91</td>\n",
       "      <td>6037.0</td>\n",
       "      <td>0.200000</td>\n",
       "      <td>0.06250</td>\n",
       "      <td>0.001828</td>\n",
       "      <td>0.002176</td>\n",
       "      <td>0.725581</td>\n",
       "      <td>0.002325</td>\n",
       "    </tr>\n",
       "    <tr>\n",
       "      <th>1253096</th>\n",
       "      <td>12035061</td>\n",
       "      <td>4</td>\n",
       "      <td>3.0</td>\n",
       "      <td>2066.0</td>\n",
       "      <td>617344.0</td>\n",
       "      <td>1924</td>\n",
       "      <td>7650.55</td>\n",
       "      <td>6037.0</td>\n",
       "      <td>0.266667</td>\n",
       "      <td>0.09375</td>\n",
       "      <td>0.002168</td>\n",
       "      <td>0.006845</td>\n",
       "      <td>0.572093</td>\n",
       "      <td>0.007090</td>\n",
       "    </tr>\n",
       "    <tr>\n",
       "      <th>372341</th>\n",
       "      <td>12732845</td>\n",
       "      <td>3</td>\n",
       "      <td>2.0</td>\n",
       "      <td>1260.0</td>\n",
       "      <td>351730.0</td>\n",
       "      <td>1961</td>\n",
       "      <td>4093.40</td>\n",
       "      <td>6037.0</td>\n",
       "      <td>0.200000</td>\n",
       "      <td>0.06250</td>\n",
       "      <td>0.001322</td>\n",
       "      <td>0.003900</td>\n",
       "      <td>0.744186</td>\n",
       "      <td>0.003791</td>\n",
       "    </tr>\n",
       "  </tbody>\n",
       "</table>\n",
       "<p>1198531 rows × 14 columns</p>\n",
       "</div>"
      ],
      "text/plain": [
       "         parcel_id  bedroom_cnt  bathroom_cnt  square_feet  tax_value  \\\n",
       "1567873   12832154            3           1.0       1248.0   191578.0   \n",
       "1218138   10914505            2           2.0       1326.0  1345206.0   \n",
       "339661    12639487            2           1.0       1053.0   356648.0   \n",
       "1017133   12268872            3           2.0       1256.0   175069.0   \n",
       "40250     13924017            3           2.0       1640.0   543000.0   \n",
       "...            ...          ...           ...          ...        ...   \n",
       "941799    12290590            2           1.0        696.0    27699.0   \n",
       "631585    12934374            3           3.0       2081.0   619590.0   \n",
       "883917    10769349            3           2.0       1742.0   196237.0   \n",
       "1253096   12035061            4           3.0       2066.0   617344.0   \n",
       "372341    12732845            3           2.0       1260.0   351730.0   \n",
       "\n",
       "         year_built  tax_amount    fips  bedroom_cnt_scaled  \\\n",
       "1567873        1950     2712.21  6037.0            0.200000   \n",
       "1218138        1950    16539.04  6037.0            0.133333   \n",
       "339661         1953     4575.16  6037.0            0.133333   \n",
       "1017133        1946     2635.51  6037.0            0.200000   \n",
       "40250          1957     6344.96  6059.0            0.200000   \n",
       "...             ...         ...     ...                 ...   \n",
       "941799         1954      918.71  6037.0            0.133333   \n",
       "631585         1987     7319.49  6037.0            0.200000   \n",
       "883917         1957     2512.91  6037.0            0.200000   \n",
       "1253096        1924     7650.55  6037.0            0.266667   \n",
       "372341         1961     4093.40  6037.0            0.200000   \n",
       "\n",
       "         bathroom_cnt_scaled  square_feet_scaled  tax_value_scaled  \\\n",
       "1567873              0.03125            0.001309          0.002124   \n",
       "1218138              0.06250            0.001391          0.014915   \n",
       "339661               0.03125            0.001104          0.003954   \n",
       "1017133              0.06250            0.001317          0.001941   \n",
       "40250                0.06250            0.001721          0.006020   \n",
       "...                      ...                 ...               ...   \n",
       "941799               0.03125            0.000730          0.000307   \n",
       "631585               0.09375            0.002184          0.006870   \n",
       "883917               0.06250            0.001828          0.002176   \n",
       "1253096              0.09375            0.002168          0.006845   \n",
       "372341               0.06250            0.001322          0.003900   \n",
       "\n",
       "         year_built_scaled  tax_amount_scaled  \n",
       "1567873           0.693023           0.002510  \n",
       "1218138           0.693023           0.015335  \n",
       "339661            0.706977           0.004238  \n",
       "1017133           0.674419           0.002439  \n",
       "40250             0.725581           0.005879  \n",
       "...                    ...                ...  \n",
       "941799            0.711628           0.000846  \n",
       "631585            0.865116           0.006783  \n",
       "883917            0.725581           0.002325  \n",
       "1253096           0.572093           0.007090  \n",
       "372341            0.744186           0.003791  \n",
       "\n",
       "[1198531 rows x 14 columns]"
      ]
     },
     "execution_count": 7,
     "metadata": {},
     "output_type": "execute_result"
    }
   ],
   "source": [
    "train_scaled"
   ]
  },
  {
   "cell_type": "code",
   "execution_count": null,
   "id": "f9d13c92-e01e-4818-bffc-ab221aa30edf",
   "metadata": {},
   "outputs": [],
   "source": []
  }
 ],
 "metadata": {
  "kernelspec": {
   "display_name": "Python 3.9.7 64-bit ('base': conda)",
   "language": "python",
   "name": "python397jvsc74a57bd038cca0c38332a56087b24af0bc80247f4fced29cb4f7f437d91dc159adec9c4e"
  },
  "language_info": {
   "codemirror_mode": {
    "name": "ipython",
    "version": 3
   },
   "file_extension": ".py",
   "mimetype": "text/x-python",
   "name": "python",
   "nbconvert_exporter": "python",
   "pygments_lexer": "ipython3",
   "version": "3.9.7"
  }
 },
 "nbformat": 4,
 "nbformat_minor": 5
}
